{
 "cells": [
  {
   "cell_type": "code",
   "execution_count": 8,
   "id": "4397f321",
   "metadata": {},
   "outputs": [
    {
     "name": "stdout",
     "output_type": "stream",
     "text": [
      "日期: 2019/11/07\n"
     ]
    }
   ],
   "source": [
    "date=\"2019/11/07\"\n",
    "print(\"日期:\",date)\n"
   ]
  },
  {
   "cell_type": "code",
   "execution_count": 3,
   "id": "e757a29f",
   "metadata": {},
   "outputs": [],
   "source": [
    "strl=\"上列被告因業務過失致死案件，經檢察官提起公訴(108年度調偵字第1280號），因被告於準備程序中經訊問後自白犯罪，本院合議庭裁定改行簡易程序（108年度審交訴字第62號)，逕以簡易判決處刑如下\""
   ]
  },
  {
   "cell_type": "code",
   "execution_count": 2,
   "id": "0e46ba0f",
   "metadata": {},
   "outputs": [
    {
     "name": "stdout",
     "output_type": "stream",
     "text": [
      "上列被告因業務過失致死案件，經檢察官提起公訴(108年度調偵字第1280號），因被告於準備程序中經訊問後自白犯罪，本院合議庭裁定改行簡易程序（108年度審交訴字第62號)，逕以簡易判決處刑如下\n"
     ]
    }
   ],
   "source": [
    "print(strl)"
   ]
  },
  {
   "cell_type": "code",
   "execution_count": 10,
   "id": "aca654f2",
   "metadata": {},
   "outputs": [],
   "source": [
    "money=\"500000\""
   ]
  },
  {
   "cell_type": "code",
   "execution_count": 11,
   "id": "52b57e66",
   "metadata": {},
   "outputs": [
    {
     "name": "stdout",
     "output_type": "stream",
     "text": [
      "應罰: 500000\n"
     ]
    }
   ],
   "source": [
    "print(\"應罰:\",money)"
   ]
  },
  {
   "cell_type": "code",
   "execution_count": null,
   "id": "9a333910",
   "metadata": {},
   "outputs": [],
   "source": []
  }
 ],
 "metadata": {
  "kernelspec": {
   "display_name": "Python 3 (ipykernel)",
   "language": "python",
   "name": "python3"
  },
  "language_info": {
   "codemirror_mode": {
    "name": "ipython",
    "version": 3
   },
   "file_extension": ".py",
   "mimetype": "text/x-python",
   "name": "python",
   "nbconvert_exporter": "python",
   "pygments_lexer": "ipython3",
   "version": "3.9.12"
  }
 },
 "nbformat": 4,
 "nbformat_minor": 5
}
