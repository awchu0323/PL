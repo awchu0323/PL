{
 "cells": [
  {
   "cell_type": "code",
   "execution_count": 10,
   "id": "38194a84",
   "metadata": {},
   "outputs": [],
   "source": [
    "a = {'name':'阿程','age':34,\n",
    "     '罪責':{'第16條':'裝置高音量喇叭或其他產生噪音器物',\n",
    "             '第17條':'汽車不依限期參加定期檢驗或臨時檢驗',\n",
    "             '第62條':'汽車駕駛人駕駛汽車肇事','第21條':'未領有駕駛執照駕駛小型車或機車'},\n",
    "     \"罰鍰\":{'第16條':1600,'第17條':1500,'第62條':2500,'第21條':10500}}\n",
    "\n",
    "b = {'name':'阿力','age':29,\n",
    "     '罪責':{'第12條':'汽車使用吊銷、註銷之牌照'},\n",
    "     '罰鍰':{'第12條':5000}}\n",
    "\n",
    "c = {'name':'阿瑤','age':58,\n",
    "     '罪責':{'第82條':'未經許可在道路擺設攤位','第56條':'在禁止臨時停車處所停車'},\n",
    "     '罰鍰':{'第82條':2000,'第56條':1000}}"
   ]
  },
  {
   "cell_type": "code",
   "execution_count": 35,
   "id": "519994b8",
   "metadata": {},
   "outputs": [
    {
     "name": "stdout",
     "output_type": "stream",
     "text": [
      "(4, [dict_items([('第16條', '裝置高音量喇叭或其他產生噪音器物'), ('第17條', '汽車不依限期參加定期檢驗或臨時檢驗'), ('第62條', '汽車駕駛人駕駛汽車肇事'), ('第21條', '未領有駕駛執照駕駛小型車或機車')])])\n",
      "(1, [dict_items([('第12條', '汽車使用吊銷、註銷之牌照')])])\n",
      "(2, [dict_items([('第82條', '未經許可在道路擺設攤位'), ('第56條', '在禁止臨時停車處所停車')])])\n"
     ]
    }
   ],
   "source": [
    "def gu(name):\n",
    "    number = len(name[\"罪責\"]) \n",
    "    for i in name[\"罪責\"].items():  #items\n",
    "        content = []\n",
    "        content.append(name[\"罪責\"].items())\n",
    "    return number,content\n",
    "print(gu(a))\n",
    "print(gu(b))\n",
    "print(gu(c))"
   ]
  },
  {
   "cell_type": "code",
   "execution_count": 28,
   "id": "a8a8ea8d",
   "metadata": {},
   "outputs": [
    {
     "data": {
      "text/plain": [
       "[(1, 1), (2, 2), (3, 4)]"
      ]
     },
     "execution_count": 28,
     "metadata": {},
     "output_type": "execute_result"
    }
   ],
   "source": [
    "a_gu_num,a_gu_content = gu(a)\n",
    "b_gu_num,b_gu_content = gu(b)\n",
    "c_gu_num,c_gu_content = gu(c)\n",
    "\n",
    "rank_gu={a_gu_num,\n",
    "         b_gu_num,\n",
    "         c_gu_num\n",
    "}\n",
    "rank_gu_enu = enumerate(rank_gu,start = 1)\n",
    "rank_gu_sor = sorted(rank_gu_enu,key = lambda s:s[1])\n",
    "\n",
    "#test\n",
    "rank_gu_sor"
   ]
  },
  {
   "cell_type": "code",
   "execution_count": 48,
   "id": "b617481f",
   "metadata": {},
   "outputs": [
    {
     "data": {
      "text/plain": [
       "(16100, [('第16條', 1600), ('第17條', 1500), ('第62條', 2500), ('第21條', 10500)])"
      ]
     },
     "execution_count": 48,
     "metadata": {},
     "output_type": "execute_result"
    }
   ],
   "source": [
    "def mo(name):\n",
    "    sum = 0 \n",
    "    content = []\n",
    "    \n",
    "    for i in name[\"罰鍰\"]:\n",
    "        money = (i,name[\"罰鍰\"][i])\n",
    "        content.append(money)\n",
    "        sum += name[\"罰鍰\"][i]\n",
    "    return sum,content\n",
    "\n",
    "mo(a)"
   ]
  },
  {
   "cell_type": "code",
   "execution_count": null,
   "id": "fa2df337",
   "metadata": {},
   "outputs": [],
   "source": []
  }
 ],
 "metadata": {
  "kernelspec": {
   "display_name": "Python 3 (ipykernel)",
   "language": "python",
   "name": "python3"
  },
  "language_info": {
   "codemirror_mode": {
    "name": "ipython",
    "version": 3
   },
   "file_extension": ".py",
   "mimetype": "text/x-python",
   "name": "python",
   "nbconvert_exporter": "python",
   "pygments_lexer": "ipython3",
   "version": "3.9.12"
  }
 },
 "nbformat": 4,
 "nbformat_minor": 5
}
