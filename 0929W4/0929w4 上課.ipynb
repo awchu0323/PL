{
 "cells": [
  {
   "cell_type": "code",
   "execution_count": 8,
   "id": "9f625974",
   "metadata": {},
   "outputs": [
    {
     "data": {
      "text/plain": [
       "{'name': '甲',\n",
       " 'age': 40,\n",
       " '觸犯條例': {'第62條': '汽車駕駛人駕駛汽車肇事', '第12條': '汽車使用吊銷、註銷之牌照'},\n",
       " '罰鍰': {'第62條': 2000, '第12條': 5000}}"
      ]
     },
     "execution_count": 8,
     "metadata": {},
     "output_type": "execute_result"
    }
   ],
   "source": [
    "p1={\"name\":\"甲\",\n",
    "    \"age\":40,\n",
    "    \"觸犯條例\":{\n",
    "        '第62條':'汽車駕駛人駕駛汽車肇事',\n",
    "        '第12條':'汽車使用吊銷、註銷之牌照'\n",
    "    },\n",
    "    \"罰鍰\":{\n",
    "        '第62條':2000,\n",
    "        '第12條':5000\n",
    "    }}\n",
    "p1"
   ]
  },
  {
   "cell_type": "code",
   "execution_count": 10,
   "id": "999d5709",
   "metadata": {},
   "outputs": [
    {
     "data": {
      "text/plain": [
       "{'name': '乙',\n",
       " 'age': 52,\n",
       " '觸犯條例': {'第16條': '裝置高音量喇叭或其他產生噪音器物',\n",
       "  '第56條': '在禁止臨時停車處所停車',\n",
       "  '第82條': '未經許可在道路擺設攤位',\n",
       "  '第17條': '汽車不依限期參加定期檢驗或臨時檢驗'},\n",
       " '罰鍰': {'第62條': 12000, '第12條': 8000, '第82條': 1500, '第17條': 900}}"
      ]
     },
     "execution_count": 10,
     "metadata": {},
     "output_type": "execute_result"
    }
   ],
   "source": [
    "p2={\"name\":\"乙\",\n",
    "    \"age\":52,\n",
    "    \"觸犯條例\":{\n",
    "        '第16條':'裝置高音量喇叭或其他產生噪音器物',\n",
    "        '第56條':'在禁止臨時停車處所停車',\n",
    "        '第82條':'未經許可在道路擺設攤位',\n",
    "        '第17條':'汽車不依限期參加定期檢驗或臨時檢驗'\n",
    "    },\n",
    "    \"罰鍰\":{\n",
    "        '第62條':12000,\n",
    "        '第12條':8000,\n",
    "        \"第82條\":1500,\n",
    "        \"第17條\":900\n",
    "    }}\n",
    "p2"
   ]
  },
  {
   "cell_type": "code",
   "execution_count": 22,
   "id": "6bf8d7b2",
   "metadata": {},
   "outputs": [
    {
     "data": {
      "text/plain": [
       "{'name': '丙',\n",
       " 'age': 63,\n",
       " '觸犯條例': {'第21條': '未領有駕駛執照駕駛小型車或機車'},\n",
       " '罰鍰': {'第21條': 8000}}"
      ]
     },
     "execution_count": 22,
     "metadata": {},
     "output_type": "execute_result"
    }
   ],
   "source": [
    "p3={\"name\":\"丙\",\n",
    "    \"age\":63,\n",
    "    \"觸犯條例\":{\n",
    "        '第21條':'未領有駕駛執照駕駛小型車或機車'\n",
    "    },\n",
    "    \"罰鍰\":{\n",
    "        '第21條':8000\n",
    "    }}\n",
    "p3"
   ]
  },
  {
   "cell_type": "code",
   "execution_count": 35,
   "id": "1fa71663",
   "metadata": {},
   "outputs": [
    {
     "name": "stdout",
     "output_type": "stream",
     "text": [
      "(2, [('第62條', '汽車駕駛人駕駛汽車肇事'), ('第12條', '汽車使用吊銷、註銷之牌照')])\n",
      "(4, [('第16條', '裝置高音量喇叭或其他產生噪音器物'), ('第56條', '在禁止臨時停車處所停車'), ('第82條', '未經許可在道路擺設攤位'), ('第17條', '汽車不依限期參加定期檢驗或臨時檢驗')])\n",
      "(1, [('第21條', '未領有駕駛執照駕駛小型車或機車')])\n"
     ]
    }
   ],
   "source": [
    "def guilt(dict_name):                      #定義xxx()函數，計算罪責數和內容\n",
    "    number = len(dict_name[\"觸犯條例\"])    #用len計算字元長度\n",
    "\n",
    "    content = []\n",
    "    for i in dict_name[\"觸犯條例\"]:        #for x in y,讀取y\n",
    "        crime = (i,dict_name[\"觸犯條例\"][i])\n",
    "        content.append(crime)\n",
    "    return number, content\n",
    "     \n",
    "print(guilt(p1))      #test\n",
    "print(guilt(p2))\n",
    "print(guilt(p3))"
   ]
  },
  {
   "cell_type": "code",
   "execution_count": 37,
   "id": "7a0c6f0f",
   "metadata": {},
   "outputs": [
    {
     "name": "stdout",
     "output_type": "stream",
     "text": [
      "(7000, [('第62條', 2000), ('第12條', 5000)])\n",
      "(22400, [('第62條', 12000), ('第12條', 8000), ('第82條', 1500), ('第17條', 900)])\n",
      "(8000, [('第21條', 8000)])\n"
     ]
    }
   ],
   "source": [
    "def money(dict_name):                      #定義xxx()函數，計算罪責數和內容\n",
    "    sum = 0\n",
    "    \n",
    "    content = []\n",
    "    for i in dict_name[\"罰鍰\"]:            #for x in y,讀取y\n",
    "        crime = (i,dict_name[\"罰鍰\"][i])\n",
    "        content.append(crime)\n",
    "        sum += dict_name['罰鍰'][i]       #x += y----x = x + y\n",
    "    return sum, content\n",
    "print(money(p1))\n",
    "print(money(p2))\n",
    "print(money(p3))"
   ]
  },
  {
   "cell_type": "code",
   "execution_count": null,
   "id": "6509eb81",
   "metadata": {},
   "outputs": [],
   "source": []
  }
 ],
 "metadata": {
  "kernelspec": {
   "display_name": "Python 3 (ipykernel)",
   "language": "python",
   "name": "python3"
  },
  "language_info": {
   "codemirror_mode": {
    "name": "ipython",
    "version": 3
   },
   "file_extension": ".py",
   "mimetype": "text/x-python",
   "name": "python",
   "nbconvert_exporter": "python",
   "pygments_lexer": "ipython3",
   "version": "3.9.12"
  }
 },
 "nbformat": 4,
 "nbformat_minor": 5
}
