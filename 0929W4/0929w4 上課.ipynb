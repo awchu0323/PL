{
 "cells": [
  {
   "cell_type": "code",
   "execution_count": 87,
   "id": "9f625974",
   "metadata": {},
   "outputs": [
    {
     "data": {
      "text/plain": [
       "{'name': '甲',\n",
       " 'age': 40,\n",
       " '觸犯條例': {'第62條': '汽車駕駛人駕駛汽車肇事', '第12條': '汽車使用吊銷、註銷之牌照'},\n",
       " '罰鍰': {'第62條': 2000, '第12條': 5000}}"
      ]
     },
     "execution_count": 87,
     "metadata": {},
     "output_type": "execute_result"
    }
   ],
   "source": [
    "p1={\"name\":\"甲\",\n",
    "    \"age\":40,\n",
    "    \"觸犯條例\":{\n",
    "        '第62條':'汽車駕駛人駕駛汽車肇事',\n",
    "        '第12條':'汽車使用吊銷、註銷之牌照'\n",
    "    },\n",
    "    \"罰鍰\":{\n",
    "        '第62條':2000,\n",
    "        '第12條':5000\n",
    "    }}\n",
    "p1"
   ]
  },
  {
   "cell_type": "code",
   "execution_count": 88,
   "id": "9902a0ea",
   "metadata": {},
   "outputs": [
    {
     "data": {
      "text/plain": [
       "{'name': '乙',\n",
       " 'age': 52,\n",
       " '觸犯條例': {'第16條': '裝置高音量喇叭或其他產生噪音器物',\n",
       "  '第56條': '在禁止臨時停車處所停車',\n",
       "  '第82條': '未經許可在道路擺設攤位',\n",
       "  '第17條': '汽車不依限期參加定期檢驗或臨時檢驗'},\n",
       " '罰鍰': {'第62條': 12000, '第12條': 8000, '第82條': 1500, '第17條': 900}}"
      ]
     },
     "execution_count": 88,
     "metadata": {},
     "output_type": "execute_result"
    }
   ],
   "source": [
    "p2={\"name\":\"乙\",\n",
    "    \"age\":52,\n",
    "    \"觸犯條例\":{\n",
    "        '第16條':'裝置高音量喇叭或其他產生噪音器物',\n",
    "        '第56條':'在禁止臨時停車處所停車',\n",
    "        '第82條':'未經許可在道路擺設攤位',\n",
    "        '第17條':'汽車不依限期參加定期檢驗或臨時檢驗'\n",
    "    },\n",
    "    \"罰鍰\":{\n",
    "        '第62條':12000,\n",
    "        '第12條':8000,\n",
    "        \"第82條\":1500,\n",
    "        \"第17條\":900\n",
    "    }}\n",
    "p2"
   ]
  },
  {
   "cell_type": "code",
   "execution_count": 89,
   "id": "1c007879",
   "metadata": {},
   "outputs": [
    {
     "data": {
      "text/plain": [
       "{'name': '丙',\n",
       " 'age': 63,\n",
       " '觸犯條例': {'第21條': '未領有駕駛執照駕駛小型車或機車'},\n",
       " '罰鍰': {'第21條': 8000}}"
      ]
     },
     "execution_count": 89,
     "metadata": {},
     "output_type": "execute_result"
    }
   ],
   "source": [
    "p3={\"name\":\"丙\",\n",
    "    \"age\":63,\n",
    "    \"觸犯條例\":{\n",
    "        '第21條':'未領有駕駛執照駕駛小型車或機車'\n",
    "    },\n",
    "    \"罰鍰\":{\n",
    "        '第21條':8000\n",
    "    }}\n",
    "p3"
   ]
  },
  {
   "cell_type": "code",
   "execution_count": 90,
   "id": "10b4846e",
   "metadata": {},
   "outputs": [
    {
     "name": "stdout",
     "output_type": "stream",
     "text": [
      "(2, [('第62條', '汽車駕駛人駕駛汽車肇事'), ('第12條', '汽車使用吊銷、註銷之牌照')])\n",
      "(4, [('第16條', '裝置高音量喇叭或其他產生噪音器物'), ('第56條', '在禁止臨時停車處所停車'), ('第82條', '未經許可在道路擺設攤位'), ('第17條', '汽車不依限期參加定期檢驗或臨時檢驗')])\n",
      "(1, [('第21條', '未領有駕駛執照駕駛小型車或機車')])\n"
     ]
    }
   ],
   "source": [
    "def guilt(dict_name):                      #定義xxx()函數，計算罪責數和內容\n",
    "    number = len(dict_name[\"觸犯條例\"])    #用len計算字元長度\n",
    "\n",
    "    content = []\n",
    "    for i in dict_name[\"觸犯條例\"]:        #for x in y,讀取y\n",
    "        crime = (i,dict_name[\"觸犯條例\"][i])\n",
    "        content.append(crime)\n",
    "    return number, content\n",
    "     \n",
    "print(guilt(p1))      #test\n",
    "print(guilt(p2))\n",
    "print(guilt(p3))"
   ]
  },
  {
   "cell_type": "code",
   "execution_count": 108,
   "id": "cc67b186",
   "metadata": {},
   "outputs": [
    {
     "name": "stdout",
     "output_type": "stream",
     "text": [
      "(7000, [('第62條', 2000), ('第12條', 5000)])\n",
      "(22400, [('第62條', 12000), ('第12條', 8000), ('第82條', 1500), ('第17條', 900)])\n",
      "(8000, [('第21條', 8000)])\n"
     ]
    }
   ],
   "source": [
    "def money(dict_name):                      #定義xxx()函數，計算罪責數和內容\n",
    "    sum = 0\n",
    "    \n",
    "    content = []\n",
    "    for i in dict_name[\"罰鍰\"]:            #for x in y,讀取y\n",
    "        crime = (i,dict_name[\"罰鍰\"][i])\n",
    "        content.append(crime)\n",
    "        sum += dict_name['罰鍰'][i]       #x += y----x = x + y\n",
    "    return sum, content\n",
    "print(money(p1))\n",
    "print(money(p2))\n",
    "print(money(p3))"
   ]
  },
  {
   "cell_type": "code",
   "execution_count": null,
   "id": "dab7160c",
   "metadata": {},
   "outputs": [],
   "source": [
    "#犯罪次數排行\n",
    "\n",
    "p1_guilt_num, p1_guilt_content = guilt(p1) #宣告讀取函數回傳值 (罪責數, 罪責內容)\n",
    "p2_guilt_num, p2_guilt_content = guilt(p2)\n",
    "p3_guilt_num, p3_guilt_content = guilt(p3)\n",
    "\n",
    "rank_gu = [p1_guilt_num,       #設rank\n",
    "           p2_guilt_num,\n",
    "           p3_guilt_num,\n",
    "]\n",
    "\n",
    "#設定原始位置\n",
    "\n",
    "rank_gu_enumerate = enumerate(rank_gu, start = 1) # >>>[(1,p1_guilt_num),(2,p2_guilt_num),(3,p3_guilt_num)]\n",
    "                                                  #enumerate()賦予編號 start設定起始值 預設從0開始\n",
    "rank_gu_sorted = sorted(rank_gu_enumerate, key = lambda a: a[1]) \n",
    "\n",
    "#sorted( ,reverse = False) 由小到大(預設)  ( ,reverse = True)由大到小\n",
    "#lambda函數\n",
    "#a[n] 用第n列去sort(小到大)\n",
    "#rank_gu_sorted = sorted(rank_gu_enumerate, key = lam) \n",
    "\n",
    "#test\n",
    "print(p1_guilt_num,p2_guilt_num,p3_guilt_num)\n",
    "print(p1_guilt_content,p2_guilt_content,p3_guilt_content)\n",
    "print(rank_gu_sorted)\n",
    "\n"
   ]
  },
  {
   "cell_type": "code",
   "execution_count": null,
   "id": "3366d7cb",
   "metadata": {},
   "outputs": [],
   "source": [
    "#罰鍰金額排行\n",
    "\n",
    "p1_money_num,p1_money_content=money(p1)\n",
    "p2_money_num,p2_money_content=money(p2)\n",
    "p3_money_num,p3_money_content=money(p3)\n",
    "\n",
    "rank_money = [p1_money_num,\n",
    "              p2_money_num,\n",
    "              p3_money_num,\n",
    "]\n",
    "\n",
    "rank_money_enu = enumerate(rank_money,start = 1)\n",
    "\n",
    "rank_money_sor = sorted(rank_money_enu,key = lambda b: b[1])\n",
    "\n",
    "#test\n",
    "print(rank_money)\n",
    "print(p1_money_content,p2_money_content, p3_money_content)\n",
    "print(rank_money_sor)"
   ]
  },
  {
   "cell_type": "code",
   "execution_count": null,
   "id": "aee0a4e4",
   "metadata": {},
   "outputs": [],
   "source": [
    "def getit(list_name):     #設getit()函數執行for-loop\n",
    "    for i in list_name:\n",
    "        print(i)           #直接傳出"
   ]
  },
  {
   "cell_type": "code",
   "execution_count": 107,
   "id": "84de5f07",
   "metadata": {},
   "outputs": [
    {
     "name": "stdout",
     "output_type": "stream",
     "text": [
      "請輸入: 1.查看甲 2.查看乙 3.查看丙 4.犯罪數排名 5.累積罰金&罰鍰數排名 6.結束程式:1\n",
      "Name: 甲 \n",
      "Age: 40\n",
      "共觸犯(條): 2\n",
      "條例內容:\n",
      "('第62條', '汽車駕駛人駕駛汽車肇事')\n",
      "('第12條', '汽車使用吊銷、註銷之牌照')\n",
      "罰鍰總額(元): 7000\n",
      "詳細內容:\n",
      "('第62條', 2000)\n",
      "('第12條', 5000)\n",
      "請輸入: 1.查看甲 2.查看乙 3.查看丙 4.犯罪數排名 5.累積罰金&罰鍰數排名 6.結束程式:2\n",
      "Name: 乙 \n",
      "Age: 52\n",
      "共觸犯(條): 4\n",
      "條例內容:\n",
      "('第16條', '裝置高音量喇叭或其他產生噪音器物')\n",
      "('第56條', '在禁止臨時停車處所停車')\n",
      "('第82條', '未經許可在道路擺設攤位')\n",
      "('第17條', '汽車不依限期參加定期檢驗或臨時檢驗')\n",
      "罰鍰總額(元): 22400\n",
      "詳細內容:\n",
      "('第62條', 12000)\n",
      "('第12條', 8000)\n",
      "('第82條', 1500)\n",
      "('第17條', 900)\n",
      "請輸入: 1.查看甲 2.查看乙 3.查看丙 4.犯罪數排名 5.累積罰金&罰鍰數排名 6.結束程式:3\n",
      "Name: 丙 \n",
      "Age: 63\n",
      "共觸犯(條): 1\n",
      "條例內容:\n",
      "('第21條', '未領有駕駛執照駕駛小型車或機車')\n",
      "罰鍰總額(元): 8000\n",
      "詳細內容:\n",
      "('第21條', 8000)\n",
      "請輸入: 1.查看甲 2.查看乙 3.查看丙 4.犯罪數排名 5.累積罰金&罰鍰數排名 6.結束程式:4\n",
      "甲為1，乙為2，丙為3\n",
      "(人,犯罪次數)(少->多）\n",
      "[(3, 1), (1, 2), (2, 4)]\n",
      "請輸入: 1.查看甲 2.查看乙 3.查看丙 4.犯罪數排名 5.累積罰金&罰鍰數排名 6.結束程式:5\n",
      "甲為1，乙為2，丙為3\n",
      "(人,金額)(少->多）\n",
      "[(1, 7000), (3, 8000), (2, 22400)]\n",
      "請輸入: 1.查看甲 2.查看乙 3.查看丙 4.犯罪數排名 5.累積罰金&罰鍰數排名 6.結束程式:7\n",
      "輸入錯誤，請重新輸入\n",
      "請輸入: 1.查看甲 2.查看乙 3.查看丙 4.犯罪數排名 5.累積罰金&罰鍰數排名 6.結束程式:6\n",
      "Bye bye~~~\n"
     ]
    }
   ],
   "source": [
    "while True:\n",
    "    options = input('請輸入: 1.查看甲 2.查看乙 3.查看丙 4.犯罪數排名 5.累積罰金&罰鍰數排名 6.結束程式:')\n",
    "    if options == \"1\":\n",
    "        print('Name:',p1['name'],'\\nAge:',p1['age']) #\\n分行\n",
    "        print('共觸犯(條):',p1_guilt_num)\n",
    "        print('條例內容:') \n",
    "        getit(p1_guilt_content) #呼叫函數用for-loop印出p1_guilt_content各項 \n",
    "        print('罰鍰總額(元):',p1_money_num)\n",
    "        print('詳細內容:')\n",
    "        getit(p1_money_content)\n",
    "    elif options == \"2\":\n",
    "        print('Name:',p2['name'],'\\nAge:',p2['age']) #\\n分行\n",
    "        print('共觸犯(條):',p2_guilt_num)\n",
    "        print('條例內容:') \n",
    "        getit(p2_guilt_content) #呼叫函數用for-loop印出p1_guilt_content各項 \n",
    "        print('罰鍰總額(元):',p2_money_num)\n",
    "        print('詳細內容:')\n",
    "        getit(p2_money_content)\n",
    "    elif options == \"3\":\n",
    "        print('Name:',p3['name'],'\\nAge:',p3['age']) #\\n分行\n",
    "        print('共觸犯(條):',p3_guilt_num)\n",
    "        print('條例內容:') \n",
    "        getit(p3_guilt_content) #呼叫函數用for-loop印出p1_guilt_content各項 \n",
    "        print('罰鍰總額(元):',p3_money_num)\n",
    "        print('詳細內容:')\n",
    "        getit(p3_money_content)\n",
    "    elif options == '4':\n",
    "        print('甲為1，乙為2，丙為3')\n",
    "        print('(人,犯罪次數)(少->多）')\n",
    "        print(rank_gu_sorted)\n",
    "    elif options == '5':\n",
    "        print('甲為1，乙為2，丙為3')\n",
    "        print('(人,金額)(少->多）')\n",
    "        print(rank_money_sor)\n",
    "    elif options == '6':\n",
    "        print('Bye bye~~~')\n",
    "        break\n",
    "    else:\n",
    "        print('輸入錯誤，請重新輸入')\n",
    "        continue  \n",
    "    "
   ]
  },
  {
   "cell_type": "code",
   "execution_count": null,
   "id": "4557078a",
   "metadata": {},
   "outputs": [],
   "source": []
  },
  {
   "cell_type": "code",
   "execution_count": null,
   "id": "53a1ccc5",
   "metadata": {},
   "outputs": [],
   "source": []
  }
 ],
 "metadata": {
  "kernelspec": {
   "display_name": "Python 3 (ipykernel)",
   "language": "python",
   "name": "python3"
  },
  "language_info": {
   "codemirror_mode": {
    "name": "ipython",
    "version": 3
   },
   "file_extension": ".py",
   "mimetype": "text/x-python",
   "name": "python",
   "nbconvert_exporter": "python",
   "pygments_lexer": "ipython3",
   "version": "3.9.12"
  }
 },
 "nbformat": 4,
 "nbformat_minor": 5
}
