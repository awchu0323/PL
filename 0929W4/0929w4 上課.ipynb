{
 "cells": [
  {
   "cell_type": "code",
   "execution_count": 8,
   "id": "9f625974",
   "metadata": {},
   "outputs": [
    {
     "data": {
      "text/plain": [
       "{'name': '甲',\n",
       " 'age': 40,\n",
       " '觸犯條例': {'第62條': '汽車駕駛人駕駛汽車肇事', '第12條': '汽車使用吊銷、註銷之牌照'},\n",
       " '罰鍰': {'第62條': 2000, '第12條': 5000}}"
      ]
     },
     "execution_count": 8,
     "metadata": {},
     "output_type": "execute_result"
    }
   ],
   "source": [
    "p1={\"name\":\"甲\",\n",
    "    \"age\":40,\n",
    "    \"觸犯條例\":{\n",
    "        '第62條':'汽車駕駛人駕駛汽車肇事',\n",
    "        '第12條':'汽車使用吊銷、註銷之牌照'\n",
    "    },\n",
    "    \"罰鍰\":{\n",
    "        '第62條':2000,\n",
    "        '第12條':5000\n",
    "    }}\n",
    "p1"
   ]
  },
  {
   "cell_type": "code",
   "execution_count": 10,
   "id": "aa2d3f5f",
   "metadata": {},
   "outputs": [
    {
     "data": {
      "text/plain": [
       "{'name': '乙',\n",
       " 'age': 52,\n",
       " '觸犯條例': {'第16條': '裝置高音量喇叭或其他產生噪音器物',\n",
       "  '第56條': '在禁止臨時停車處所停車',\n",
       "  '第82條': '未經許可在道路擺設攤位',\n",
       "  '第17條': '汽車不依限期參加定期檢驗或臨時檢驗'},\n",
       " '罰鍰': {'第62條': 12000, '第12條': 8000, '第82條': 1500, '第17條': 900}}"
      ]
     },
     "execution_count": 10,
     "metadata": {},
     "output_type": "execute_result"
    }
   ],
   "source": [
    "p2={\"name\":\"乙\",\n",
    "    \"age\":52,\n",
    "    \"觸犯條例\":{\n",
    "        '第16條':'裝置高音量喇叭或其他產生噪音器物',\n",
    "        '第56條':'在禁止臨時停車處所停車',\n",
    "        '第82條':'未經許可在道路擺設攤位',\n",
    "        '第17條':'汽車不依限期參加定期檢驗或臨時檢驗'\n",
    "    },\n",
    "    \"罰鍰\":{\n",
    "        '第62條':12000,\n",
    "        '第12條':8000,\n",
    "        \"第82條\":1500,\n",
    "        \"第17條\":900\n",
    "    }}\n",
    "p2"
   ]
  },
  {
   "cell_type": "code",
   "execution_count": 11,
   "id": "dd2b3c42",
   "metadata": {},
   "outputs": [
    {
     "ename": "SyntaxError",
     "evalue": "invalid syntax (577446457.py, line 2)",
     "output_type": "error",
     "traceback": [
      "\u001b[1;36m  Input \u001b[1;32mIn [11]\u001b[1;36m\u001b[0m\n\u001b[1;33m    \"age\":,63\u001b[0m\n\u001b[1;37m          ^\u001b[0m\n\u001b[1;31mSyntaxError\u001b[0m\u001b[1;31m:\u001b[0m invalid syntax\n"
     ]
    }
   ],
   "source": [
    "p3={\"name\":\"丙\",\n",
    "    \"age\":,63\n",
    "    \"觸犯條例\":{\n",
    "        '第21條':'未領有駕駛執照駕駛小型車或機車'\n",
    "    },\n",
    "    \"罰鍰\":{\n",
    "        '第21條':8000\n",
    "    }}\n",
    "p3"
   ]
  },
  {
   "cell_type": "code",
   "execution_count": null,
   "id": "5814192b",
   "metadata": {},
   "outputs": [],
   "source": []
  }
 ],
 "metadata": {
  "kernelspec": {
   "display_name": "Python 3 (ipykernel)",
   "language": "python",
   "name": "python3"
  },
  "language_info": {
   "codemirror_mode": {
    "name": "ipython",
    "version": 3
   },
   "file_extension": ".py",
   "mimetype": "text/x-python",
   "name": "python",
   "nbconvert_exporter": "python",
   "pygments_lexer": "ipython3",
   "version": "3.9.12"
  }
 },
 "nbformat": 4,
 "nbformat_minor": 5
}
