{
 "cells": [
  {
   "cell_type": "code",
   "execution_count": 9,
   "id": "1d2a8c56",
   "metadata": {},
   "outputs": [],
   "source": [
    "import json"
   ]
  },
  {
   "cell_type": "code",
   "execution_count": 10,
   "id": "751ae7a2",
   "metadata": {},
   "outputs": [],
   "source": [
    "test = open(\"jm4 - 工作表1.json\",encoding=\"utf-8\")\n",
    "data = json.load(test)\n"
   ]
  },
  {
   "cell_type": "code",
   "execution_count": 18,
   "id": "0f07d378",
   "metadata": {},
   "outputs": [
    {
     "data": {
      "text/plain": [
       "dict"
      ]
     },
     "execution_count": 18,
     "metadata": {},
     "output_type": "execute_result"
    }
   ],
   "source": [
    "type(data)"
   ]
  },
  {
   "cell_type": "code",
   "execution_count": 19,
   "id": "02ec9b1c",
   "metadata": {},
   "outputs": [
    {
     "data": {
      "text/plain": [
       "dict_items([('movie', [{'排名': 1, '片名': '《鬼滅之刃劇場版 無限列車篇》', '票房收入': 404.3, '年份': 2020}, {'排名': 2, '片名': '《神隱少女》', '票房收入': 316.8, '年份': 2001}, {'排名': 3, '片名': '《鐵達尼號》 ', '票房收入': 262, '年份': 1998}, {'排名': 4, '片名': '《冰雪奇緣》', '票房收入': 255, '年份': 2014}, {'排名': 5, '片名': '《你的名字》', '票房收入': 250.3, '年份': 2016}, {'排名': 6, '片名': '《哈利波特：神秘的魔法石》', '票房收入': 203, '年份': 2001}, {'排名': 7, '片名': '《魔法公主》', '票房收入': 201.8, '年份': 1997}, {'排名': 8, '片名': '《霍爾的移動城堡》', '票房收入': 196, '年份': 2004}, {'排名': 9, '片名': '《大搜查線2：封鎖彩虹橋》', '票房收入': 173.5, '年份': 2003}, {'排名': 10, '片名': '《哈利波特：消失的密室》', '票房收入': 173, '年份': 2002}])])"
      ]
     },
     "execution_count": 19,
     "metadata": {},
     "output_type": "execute_result"
    }
   ],
   "source": [
    "data.items()"
   ]
  },
  {
   "cell_type": "code",
   "execution_count": 24,
   "id": "91418267",
   "metadata": {},
   "outputs": [
    {
     "data": {
      "text/plain": [
       "[{'排名': 1, '片名': '《鬼滅之刃劇場版 無限列車篇》', '票房收入': 404.3, '年份': 2020},\n",
       " {'排名': 2, '片名': '《神隱少女》', '票房收入': 316.8, '年份': 2001},\n",
       " {'排名': 3, '片名': '《鐵達尼號》 ', '票房收入': 262, '年份': 1998},\n",
       " {'排名': 4, '片名': '《冰雪奇緣》', '票房收入': 255, '年份': 2014},\n",
       " {'排名': 5, '片名': '《你的名字》', '票房收入': 250.3, '年份': 2016},\n",
       " {'排名': 6, '片名': '《哈利波特：神秘的魔法石》', '票房收入': 203, '年份': 2001},\n",
       " {'排名': 7, '片名': '《魔法公主》', '票房收入': 201.8, '年份': 1997},\n",
       " {'排名': 8, '片名': '《霍爾的移動城堡》', '票房收入': 196, '年份': 2004},\n",
       " {'排名': 9, '片名': '《大搜查線2：封鎖彩虹橋》', '票房收入': 173.5, '年份': 2003},\n",
       " {'排名': 10, '片名': '《哈利波特：消失的密室》', '票房收入': 173, '年份': 2002}]"
      ]
     },
     "execution_count": 24,
     "metadata": {},
     "output_type": "execute_result"
    }
   ],
   "source": [
    "movie = data.get(\"movie\")\n",
    "movie"
   ]
  },
  {
   "cell_type": "code",
   "execution_count": 25,
   "id": "ded02ecb",
   "metadata": {},
   "outputs": [
    {
     "name": "stdout",
     "output_type": "stream",
     "text": [
      "《神隱少女》 是 316.8\n"
     ]
    }
   ],
   "source": [
    "ask = \"《神隱少女》\"\n",
    "\n",
    "for i in movie:\n",
    "    if ask == i.get(\"片名\"):\n",
    "        print(ask,\"是\",i.get(\"票房收入\"),\"j0\")\n",
    "    "
   ]
  },
  {
   "cell_type": "code",
   "execution_count": null,
   "id": "3e056402",
   "metadata": {},
   "outputs": [],
   "source": []
  }
 ],
 "metadata": {
  "kernelspec": {
   "display_name": "Python 3 (ipykernel)",
   "language": "python",
   "name": "python3"
  },
  "language_info": {
   "codemirror_mode": {
    "name": "ipython",
    "version": 3
   },
   "file_extension": ".py",
   "mimetype": "text/x-python",
   "name": "python",
   "nbconvert_exporter": "python",
   "pygments_lexer": "ipython3",
   "version": "3.9.12"
  }
 },
 "nbformat": 4,
 "nbformat_minor": 5
}
