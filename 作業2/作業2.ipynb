{
 "cells": [
  {
   "cell_type": "code",
   "execution_count": 9,
   "id": "1d2a8c56",
   "metadata": {},
   "outputs": [],
   "source": [
    "import json"
   ]
  },
  {
   "cell_type": "code",
   "execution_count": 10,
   "id": "751ae7a2",
   "metadata": {},
   "outputs": [],
   "source": [
    "test = open(\"jm4 - 工作表1.json\",encoding=\"utf-8\")\n",
    "data = json.load(test)\n"
   ]
  },
  {
   "cell_type": "code",
   "execution_count": 18,
   "id": "0f07d378",
   "metadata": {},
   "outputs": [
    {
     "data": {
      "text/plain": [
       "dict"
      ]
     },
     "execution_count": 18,
     "metadata": {},
     "output_type": "execute_result"
    }
   ],
   "source": [
    "type(data)"
   ]
  },
  {
   "cell_type": "code",
   "execution_count": 28,
   "id": "02ec9b1c",
   "metadata": {},
   "outputs": [
    {
     "data": {
      "text/plain": [
       "dict_items([('movie', [{'排名': 1, '片名': '《鬼滅之刃劇場版 無限列車篇》', '票房收入': 404.3, '年份': 2020}, {'排名': 2, '片名': '《神隱少女》', '票房收入': 316.8, '年份': 2001}, {'排名': 3, '片名': '《鐵達尼號》 ', '票房收入': 262, '年份': 1998}, {'排名': 4, '片名': '《冰雪奇緣》', '票房收入': 255, '年份': 2014}, {'排名': 5, '片名': '《你的名字》', '票房收入': 250.3, '年份': 2016}, {'排名': 6, '片名': '《哈利波特：神秘的魔法石》', '票房收入': 203, '年份': 2001}, {'排名': 7, '片名': '《魔法公主》', '票房收入': 201.8, '年份': 1997}, {'排名': 8, '片名': '《霍爾的移動城堡》', '票房收入': 196, '年份': 2004}, {'排名': 9, '片名': '《大搜查線2：封鎖彩虹橋》', '票房收入': 173.5, '年份': 2003}, {'排名': 10, '片名': '《哈利波特：消失的密室》', '票房收入': 173, '年份': 2002}])])"
      ]
     },
     "execution_count": 28,
     "metadata": {},
     "output_type": "execute_result"
    }
   ],
   "source": [
    "data.items()"
   ]
  },
  {
   "cell_type": "code",
   "execution_count": 29,
   "id": "25555619",
   "metadata": {},
   "outputs": [
    {
     "data": {
      "text/plain": [
       "[{'排名': 1, '片名': '《鬼滅之刃劇場版 無限列車篇》', '票房收入': 404.3, '年份': 2020},\n",
       " {'排名': 2, '片名': '《神隱少女》', '票房收入': 316.8, '年份': 2001},\n",
       " {'排名': 3, '片名': '《鐵達尼號》 ', '票房收入': 262, '年份': 1998},\n",
       " {'排名': 4, '片名': '《冰雪奇緣》', '票房收入': 255, '年份': 2014},\n",
       " {'排名': 5, '片名': '《你的名字》', '票房收入': 250.3, '年份': 2016},\n",
       " {'排名': 6, '片名': '《哈利波特：神秘的魔法石》', '票房收入': 203, '年份': 2001},\n",
       " {'排名': 7, '片名': '《魔法公主》', '票房收入': 201.8, '年份': 1997},\n",
       " {'排名': 8, '片名': '《霍爾的移動城堡》', '票房收入': 196, '年份': 2004},\n",
       " {'排名': 9, '片名': '《大搜查線2：封鎖彩虹橋》', '票房收入': 173.5, '年份': 2003},\n",
       " {'排名': 10, '片名': '《哈利波特：消失的密室》', '票房收入': 173, '年份': 2002}]"
      ]
     },
     "execution_count": 29,
     "metadata": {},
     "output_type": "execute_result"
    }
   ],
   "source": [
    "movie = data.get(\"movie\")\n",
    "movie"
   ]
  },
  {
   "cell_type": "code",
   "execution_count": 37,
   "id": "c18c8ff0",
   "metadata": {},
   "outputs": [
    {
     "name": "stdout",
     "output_type": "stream",
     "text": [
      "《神隱少女》 是 2001 年\n"
     ]
    }
   ],
   "source": [
    "ask = \"《神隱少女》\" #問年分\n",
    "\n",
    "for i in movie:\n",
    "    if ask == i.get(\"片名\"):\n",
    "        print(ask,\"是\",i.get(\"年份\"),\"年\")\n",
    "    "
   ]
  },
  {
   "cell_type": "code",
   "execution_count": 47,
   "id": "cf107dc1",
   "metadata": {},
   "outputs": [
    {
     "data": {
      "text/plain": [
       "[2020, 2001, 1998, 2014, 2016, 2001, 1997, 2004, 2003, 2002]"
      ]
     },
     "execution_count": 47,
     "metadata": {},
     "output_type": "execute_result"
    }
   ],
   "source": [
    "#排年份\n",
    "rankyear = []\n",
    "for i in movie:\n",
    "    rankyear.append(i.get('年份'))\n",
    "rankyear"
   ]
  },
  {
   "cell_type": "code",
   "execution_count": 51,
   "id": "668bd92c",
   "metadata": {},
   "outputs": [
    {
     "data": {
      "text/plain": [
       "[(7, 1997),\n",
       " (3, 1998),\n",
       " (2, 2001),\n",
       " (6, 2001),\n",
       " (10, 2002),\n",
       " (9, 2003),\n",
       " (8, 2004),\n",
       " (4, 2014),\n",
       " (5, 2016),\n",
       " (1, 2020)]"
      ]
     },
     "execution_count": 51,
     "metadata": {},
     "output_type": "execute_result"
    }
   ],
   "source": [
    "rankyear_enumerate = enumerate(rankyear, start = 1)\n",
    "rankyear_enumerate_sorted = sorted(rankyear_enumerate, key = lambda s: s[1])\n",
    "rankyear_enumerate_sorted"
   ]
  },
  {
   "cell_type": "code",
   "execution_count": 52,
   "id": "9322a944",
   "metadata": {},
   "outputs": [
    {
     "name": "stdout",
     "output_type": "stream",
     "text": [
      "《魔法公主》 1997 年上映\n",
      "《鐵達尼號》  1998 年上映\n",
      "《神隱少女》 2001 年上映\n",
      "《哈利波特：神秘的魔法石》 2001 年上映\n",
      "《哈利波特：消失的密室》 2002 年上映\n",
      "《大搜查線2：封鎖彩虹橋》 2003 年上映\n",
      "《霍爾的移動城堡》 2004 年上映\n",
      "《冰雪奇緣》 2014 年上映\n",
      "《你的名字》 2016 年上映\n",
      "《鬼滅之刃劇場版 無限列車篇》 2020 年上映\n"
     ]
    }
   ],
   "source": [
    "for i in rankyear_enumerate_sorted:\n",
    "    j = i[0] - 1\n",
    "    print(movie[j].get(\"片名\"), movie[j].get(\"年份\"), \"年上映\")"
   ]
  },
  {
   "cell_type": "code",
   "execution_count": null,
   "id": "85fbba41",
   "metadata": {},
   "outputs": [],
   "source": []
  }
 ],
 "metadata": {
  "kernelspec": {
   "display_name": "Python 3 (ipykernel)",
   "language": "python",
   "name": "python3"
  },
  "language_info": {
   "codemirror_mode": {
    "name": "ipython",
    "version": 3
   },
   "file_extension": ".py",
   "mimetype": "text/x-python",
   "name": "python",
   "nbconvert_exporter": "python",
   "pygments_lexer": "ipython3",
   "version": "3.9.12"
  }
 },
 "nbformat": 4,
 "nbformat_minor": 5
}
