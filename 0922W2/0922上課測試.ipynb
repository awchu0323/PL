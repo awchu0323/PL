{
 "cells": [
  {
   "cell_type": "code",
   "execution_count": 7,
   "id": "77946ba4",
   "metadata": {},
   "outputs": [],
   "source": [
    "import pandas as pd\n",
    "\n",
    "# read csv file\n",
    "\n",
    "A = pd.read_csv(\"1_16 任務完成回報，GitHub PL Repo. Link (回覆) - 表單回應 1.csv\")"
   ]
  },
  {
   "cell_type": "code",
   "execution_count": 8,
   "id": "d717f26a",
   "metadata": {},
   "outputs": [
    {
     "data": {
      "text/html": [
       "<div>\n",
       "<style scoped>\n",
       "    .dataframe tbody tr th:only-of-type {\n",
       "        vertical-align: middle;\n",
       "    }\n",
       "\n",
       "    .dataframe tbody tr th {\n",
       "        vertical-align: top;\n",
       "    }\n",
       "\n",
       "    .dataframe thead th {\n",
       "        text-align: right;\n",
       "    }\n",
       "</style>\n",
       "<table border=\"1\" class=\"dataframe\">\n",
       "  <thead>\n",
       "    <tr style=\"text-align: right;\">\n",
       "      <th></th>\n",
       "      <th>時間戳記</th>\n",
       "      <th>電子郵件地址</th>\n",
       "      <th>姓名</th>\n",
       "      <th>學號</th>\n",
       "      <th>GitHub PL Repo. Link</th>\n",
       "    </tr>\n",
       "  </thead>\n",
       "  <tbody>\n",
       "    <tr>\n",
       "      <th>43</th>\n",
       "      <td>2022/9/15 上午 11:08:30</td>\n",
       "      <td>andersontsaitw@gmail.com</td>\n",
       "      <td>蔡昱宏</td>\n",
       "      <td>91199015Y</td>\n",
       "      <td>https://github.com/AndersonTsaiTW/PL-Repo</td>\n",
       "    </tr>\n",
       "    <tr>\n",
       "      <th>44</th>\n",
       "      <td>2022/9/9 下午 2:07:00</td>\n",
       "      <td>1234567si2k@gmail.com</td>\n",
       "      <td>邱達儒</td>\n",
       "      <td>無</td>\n",
       "      <td>https://github.com/QiuDaru/PL</td>\n",
       "    </tr>\n",
       "    <tr>\n",
       "      <th>45</th>\n",
       "      <td>2022/9/17 下午 8:52:05</td>\n",
       "      <td>cassietien0224@gmail.com</td>\n",
       "      <td>田雨禾</td>\n",
       "      <td>40923213L</td>\n",
       "      <td>https://github.com/YU-HE-TIEN/PL</td>\n",
       "    </tr>\n",
       "    <tr>\n",
       "      <th>46</th>\n",
       "      <td>2022/9/19 下午 10:05:48</td>\n",
       "      <td>weiweihnug@gmail.com</td>\n",
       "      <td>洪芷葳</td>\n",
       "      <td>41071205H</td>\n",
       "      <td>https://github.com/WeiweiHung/PL</td>\n",
       "    </tr>\n",
       "    <tr>\n",
       "      <th>47</th>\n",
       "      <td>2022/9/22 上午 12:09:47</td>\n",
       "      <td>jenny.lee.91518@gmail.com</td>\n",
       "      <td>李招蓁</td>\n",
       "      <td>40971203H</td>\n",
       "      <td>https://github.com/janliex/PL</td>\n",
       "    </tr>\n",
       "  </tbody>\n",
       "</table>\n",
       "</div>"
      ],
      "text/plain": [
       "                     時間戳記                     電子郵件地址   姓名         學號  \\\n",
       "43  2022/9/15 上午 11:08:30   andersontsaitw@gmail.com  蔡昱宏  91199015Y   \n",
       "44    2022/9/9 下午 2:07:00      1234567si2k@gmail.com  邱達儒          無   \n",
       "45   2022/9/17 下午 8:52:05   cassietien0224@gmail.com  田雨禾  40923213L   \n",
       "46  2022/9/19 下午 10:05:48       weiweihnug@gmail.com  洪芷葳  41071205H   \n",
       "47  2022/9/22 上午 12:09:47  jenny.lee.91518@gmail.com  李招蓁  40971203H   \n",
       "\n",
       "                         GitHub PL Repo. Link  \n",
       "43  https://github.com/AndersonTsaiTW/PL-Repo  \n",
       "44              https://github.com/QiuDaru/PL  \n",
       "45           https://github.com/YU-HE-TIEN/PL  \n",
       "46           https://github.com/WeiweiHung/PL  \n",
       "47              https://github.com/janliex/PL  "
      ]
     },
     "execution_count": 8,
     "metadata": {},
     "output_type": "execute_result"
    }
   ],
   "source": [
    "A.tail()"
   ]
  },
  {
   "cell_type": "code",
   "execution_count": 15,
   "id": "1551969b",
   "metadata": {},
   "outputs": [],
   "source": [
    "import pandas as pd\n",
    "\n",
    "# read csv file\n",
    "\n",
    "lo = pd.read_csv(\"3-1.csv\")"
   ]
  },
  {
   "cell_type": "code",
   "execution_count": 16,
   "id": "cb239dd9",
   "metadata": {},
   "outputs": [
    {
     "data": {
      "text/html": [
       "<div>\n",
       "<style scoped>\n",
       "    .dataframe tbody tr th:only-of-type {\n",
       "        vertical-align: middle;\n",
       "    }\n",
       "\n",
       "    .dataframe tbody tr th {\n",
       "        vertical-align: top;\n",
       "    }\n",
       "\n",
       "    .dataframe thead th {\n",
       "        text-align: right;\n",
       "    }\n",
       "</style>\n",
       "<table border=\"1\" class=\"dataframe\">\n",
       "  <thead>\n",
       "    <tr style=\"text-align: right;\">\n",
       "      <th></th>\n",
       "      <th>r</th>\n",
       "      <th>thera</th>\n",
       "      <th>thera eith pi</th>\n",
       "      <th>rcos</th>\n",
       "      <th>rsin</th>\n",
       "      <th>-r</th>\n",
       "      <th>-rcos</th>\n",
       "      <th>-rsin</th>\n",
       "    </tr>\n",
       "  </thead>\n",
       "  <tbody>\n",
       "    <tr>\n",
       "      <th>32</th>\n",
       "      <td>2.362673</td>\n",
       "      <td>320</td>\n",
       "      <td>5.582222</td>\n",
       "      <td>1.805605</td>\n",
       "      <td>-1.523815</td>\n",
       "      <td>-2.362673</td>\n",
       "      <td>-1.805605</td>\n",
       "      <td>1.523815</td>\n",
       "    </tr>\n",
       "    <tr>\n",
       "      <th>33</th>\n",
       "      <td>2.399305</td>\n",
       "      <td>330</td>\n",
       "      <td>5.756667</td>\n",
       "      <td>2.074348</td>\n",
       "      <td>-1.205715</td>\n",
       "      <td>-2.399305</td>\n",
       "      <td>-2.074348</td>\n",
       "      <td>1.205715</td>\n",
       "    </tr>\n",
       "    <tr>\n",
       "      <th>34</th>\n",
       "      <td>2.435387</td>\n",
       "      <td>340</td>\n",
       "      <td>5.931111</td>\n",
       "      <td>2.285999</td>\n",
       "      <td>-0.839832</td>\n",
       "      <td>-2.435387</td>\n",
       "      <td>-2.285999</td>\n",
       "      <td>0.839832</td>\n",
       "    </tr>\n",
       "    <tr>\n",
       "      <th>35</th>\n",
       "      <td>2.470942</td>\n",
       "      <td>350</td>\n",
       "      <td>6.105556</td>\n",
       "      <td>2.432063</td>\n",
       "      <td>-0.436608</td>\n",
       "      <td>-2.470942</td>\n",
       "      <td>-2.432063</td>\n",
       "      <td>0.436608</td>\n",
       "    </tr>\n",
       "    <tr>\n",
       "      <th>36</th>\n",
       "      <td>2.505993</td>\n",
       "      <td>360</td>\n",
       "      <td>6.280000</td>\n",
       "      <td>2.505980</td>\n",
       "      <td>-0.007982</td>\n",
       "      <td>-2.505993</td>\n",
       "      <td>-2.505980</td>\n",
       "      <td>0.007982</td>\n",
       "    </tr>\n",
       "  </tbody>\n",
       "</table>\n",
       "</div>"
      ],
      "text/plain": [
       "           r  thera  thera eith pi      rcos      rsin        -r     -rcos  \\\n",
       "32  2.362673    320       5.582222  1.805605 -1.523815 -2.362673 -1.805605   \n",
       "33  2.399305    330       5.756667  2.074348 -1.205715 -2.399305 -2.074348   \n",
       "34  2.435387    340       5.931111  2.285999 -0.839832 -2.435387 -2.285999   \n",
       "35  2.470942    350       6.105556  2.432063 -0.436608 -2.470942 -2.432063   \n",
       "36  2.505993    360       6.280000  2.505980 -0.007982 -2.505993 -2.505980   \n",
       "\n",
       "       -rsin  \n",
       "32  1.523815  \n",
       "33  1.205715  \n",
       "34  0.839832  \n",
       "35  0.436608  \n",
       "36  0.007982  "
      ]
     },
     "execution_count": 16,
     "metadata": {},
     "output_type": "execute_result"
    }
   ],
   "source": [
    "lo.tail()"
   ]
  },
  {
   "cell_type": "code",
   "execution_count": 8,
   "id": "575ce8a2",
   "metadata": {},
   "outputs": [
    {
     "name": "stdout",
     "output_type": "stream",
     "text": [
      "法律位階\n",
      "['憲法', '法律', '命令', '地方法規']\n",
      "最高: 憲法 次高: 法律\n"
     ]
    }
   ],
   "source": [
    "print(\"法律位階\")\n",
    "law=[\"憲法\",\"法律\",\"命令\",\"地方法規\"]\n",
    "print(law)\n",
    "\n",
    "print(\"最高:\",law[0],\"次高:\",law[1])"
   ]
  },
  {
   "cell_type": "code",
   "execution_count": 22,
   "id": "308134e0",
   "metadata": {},
   "outputs": [
    {
     "name": "stdout",
     "output_type": "stream",
     "text": [
      "23頂獵群\n",
      "成員: 竹竹 阿嘉 瑋哥\n",
      "銀牌以上: 竹竹 瑋哥\n",
      "待加強 ['阿嘉', '瑋哥']\n"
     ]
    }
   ],
   "source": [
    "print(\"23頂獵群\")\n",
    "mb=[\"竹竹\",\"阿嘉\",\"瑋哥\"]\n",
    "print(\"成員:\",mb[0],mb[1],mb[2])\n",
    "print(\"銀牌以上:\",mb[0],mb[2])\n",
    "print(\"待加強\",mb[-2:])"
   ]
  },
  {
   "cell_type": "code",
   "execution_count": 27,
   "id": "bffa5273",
   "metadata": {},
   "outputs": [
    {
     "name": "stdout",
     "output_type": "stream",
     "text": [
      "新增篇:\n",
      "xx.append: ['a', 'b', 'c', 'd', 'e']\n",
      "xx.insert(項,x): ['a', 'b', 's', 'c', 'd', 'e']\n"
     ]
    }
   ],
   "source": [
    "en=[\"a\",\"b\",\"c\",\"d\"]\n",
    "print(\"新增篇:\")\n",
    "print\n",
    "en.append(\"e\")\n",
    "print(\"xx.append:\",en)\n",
    "\n",
    "en.insert(2,\"s\")\n",
    "print(\"xx.insert(項,x):\",en)\n",
    "\n",
    "en\n"
   ]
  },
  {
   "cell_type": "code",
   "execution_count": null,
   "id": "685c331b",
   "metadata": {},
   "outputs": [],
   "source": []
  }
 ],
 "metadata": {
  "kernelspec": {
   "display_name": "Python 3 (ipykernel)",
   "language": "python",
   "name": "python3"
  },
  "language_info": {
   "codemirror_mode": {
    "name": "ipython",
    "version": 3
   },
   "file_extension": ".py",
   "mimetype": "text/x-python",
   "name": "python",
   "nbconvert_exporter": "python",
   "pygments_lexer": "ipython3",
   "version": "3.9.12"
  }
 },
 "nbformat": 4,
 "nbformat_minor": 5
}
