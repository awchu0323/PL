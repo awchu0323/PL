{
 "cells": [
  {
   "cell_type": "code",
   "execution_count": 7,
   "id": "77946ba4",
   "metadata": {},
   "outputs": [],
   "source": [
    "import pandas as pd\n",
    "\n",
    "# read csv file\n",
    "\n",
    "A = pd.read_csv(\"1_16 任務完成回報，GitHub PL Repo. Link (回覆) - 表單回應 1.csv\")"
   ]
  },
  {
   "cell_type": "code",
   "execution_count": 8,
   "id": "d717f26a",
   "metadata": {},
   "outputs": [
    {
     "data": {
      "text/html": [
       "<div>\n",
       "<style scoped>\n",
       "    .dataframe tbody tr th:only-of-type {\n",
       "        vertical-align: middle;\n",
       "    }\n",
       "\n",
       "    .dataframe tbody tr th {\n",
       "        vertical-align: top;\n",
       "    }\n",
       "\n",
       "    .dataframe thead th {\n",
       "        text-align: right;\n",
       "    }\n",
       "</style>\n",
       "<table border=\"1\" class=\"dataframe\">\n",
       "  <thead>\n",
       "    <tr style=\"text-align: right;\">\n",
       "      <th></th>\n",
       "      <th>時間戳記</th>\n",
       "      <th>電子郵件地址</th>\n",
       "      <th>姓名</th>\n",
       "      <th>學號</th>\n",
       "      <th>GitHub PL Repo. Link</th>\n",
       "    </tr>\n",
       "  </thead>\n",
       "  <tbody>\n",
       "    <tr>\n",
       "      <th>43</th>\n",
       "      <td>2022/9/15 上午 11:08:30</td>\n",
       "      <td>andersontsaitw@gmail.com</td>\n",
       "      <td>蔡昱宏</td>\n",
       "      <td>91199015Y</td>\n",
       "      <td>https://github.com/AndersonTsaiTW/PL-Repo</td>\n",
       "    </tr>\n",
       "    <tr>\n",
       "      <th>44</th>\n",
       "      <td>2022/9/9 下午 2:07:00</td>\n",
       "      <td>1234567si2k@gmail.com</td>\n",
       "      <td>邱達儒</td>\n",
       "      <td>無</td>\n",
       "      <td>https://github.com/QiuDaru/PL</td>\n",
       "    </tr>\n",
       "    <tr>\n",
       "      <th>45</th>\n",
       "      <td>2022/9/17 下午 8:52:05</td>\n",
       "      <td>cassietien0224@gmail.com</td>\n",
       "      <td>田雨禾</td>\n",
       "      <td>40923213L</td>\n",
       "      <td>https://github.com/YU-HE-TIEN/PL</td>\n",
       "    </tr>\n",
       "    <tr>\n",
       "      <th>46</th>\n",
       "      <td>2022/9/19 下午 10:05:48</td>\n",
       "      <td>weiweihnug@gmail.com</td>\n",
       "      <td>洪芷葳</td>\n",
       "      <td>41071205H</td>\n",
       "      <td>https://github.com/WeiweiHung/PL</td>\n",
       "    </tr>\n",
       "    <tr>\n",
       "      <th>47</th>\n",
       "      <td>2022/9/22 上午 12:09:47</td>\n",
       "      <td>jenny.lee.91518@gmail.com</td>\n",
       "      <td>李招蓁</td>\n",
       "      <td>40971203H</td>\n",
       "      <td>https://github.com/janliex/PL</td>\n",
       "    </tr>\n",
       "  </tbody>\n",
       "</table>\n",
       "</div>"
      ],
      "text/plain": [
       "                     時間戳記                     電子郵件地址   姓名         學號  \\\n",
       "43  2022/9/15 上午 11:08:30   andersontsaitw@gmail.com  蔡昱宏  91199015Y   \n",
       "44    2022/9/9 下午 2:07:00      1234567si2k@gmail.com  邱達儒          無   \n",
       "45   2022/9/17 下午 8:52:05   cassietien0224@gmail.com  田雨禾  40923213L   \n",
       "46  2022/9/19 下午 10:05:48       weiweihnug@gmail.com  洪芷葳  41071205H   \n",
       "47  2022/9/22 上午 12:09:47  jenny.lee.91518@gmail.com  李招蓁  40971203H   \n",
       "\n",
       "                         GitHub PL Repo. Link  \n",
       "43  https://github.com/AndersonTsaiTW/PL-Repo  \n",
       "44              https://github.com/QiuDaru/PL  \n",
       "45           https://github.com/YU-HE-TIEN/PL  \n",
       "46           https://github.com/WeiweiHung/PL  \n",
       "47              https://github.com/janliex/PL  "
      ]
     },
     "execution_count": 8,
     "metadata": {},
     "output_type": "execute_result"
    }
   ],
   "source": [
    "A.tail()"
   ]
  },
  {
   "cell_type": "code",
   "execution_count": 15,
   "id": "1551969b",
   "metadata": {},
   "outputs": [],
   "source": [
    "import pandas as pd\n",
    "\n",
    "# read csv file\n",
    "\n",
    "Ba = pd.read_csv(\"3-1.csv\")"
   ]
  },
  {
   "cell_type": "code",
   "execution_count": 34,
   "id": "cb239dd9",
   "metadata": {},
   "outputs": [
    {
     "ename": "NameError",
     "evalue": "name 'Ba' is not defined",
     "output_type": "error",
     "traceback": [
      "\u001b[1;31m---------------------------------------------------------------------------\u001b[0m",
      "\u001b[1;31mNameError\u001b[0m                                 Traceback (most recent call last)",
      "Input \u001b[1;32mIn [34]\u001b[0m, in \u001b[0;36m<cell line: 1>\u001b[1;34m()\u001b[0m\n\u001b[1;32m----> 1\u001b[0m \u001b[43mBa\u001b[49m\u001b[38;5;241m.\u001b[39mtail()\n",
      "\u001b[1;31mNameError\u001b[0m: name 'Ba' is not defined"
     ]
    }
   ],
   "source": [
    "Ba.tail()"
   ]
  },
  {
   "cell_type": "code",
   "execution_count": null,
   "id": "553b053d",
   "metadata": {},
   "outputs": [],
   "source": []
  }
 ],
 "metadata": {
  "kernelspec": {
   "display_name": "Python 3 (ipykernel)",
   "language": "python",
   "name": "python3"
  },
  "language_info": {
   "codemirror_mode": {
    "name": "ipython",
    "version": 3
   },
   "file_extension": ".py",
   "mimetype": "text/x-python",
   "name": "python",
   "nbconvert_exporter": "python",
   "pygments_lexer": "ipython3",
   "version": "3.9.12"
  }
 },
 "nbformat": 4,
 "nbformat_minor": 5
}
