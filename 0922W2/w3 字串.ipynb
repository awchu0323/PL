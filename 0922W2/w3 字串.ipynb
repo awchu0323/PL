{
 "cells": [
  {
   "cell_type": "code",
   "execution_count": 1,
   "id": "789efb5c",
   "metadata": {},
   "outputs": [
    {
     "name": "stdout",
     "output_type": "stream",
     "text": [
      "法律位階\n",
      "['憲法', '法律', '命令', '地方法規']\n",
      "最高: 憲法 次高: 法律\n"
     ]
    }
   ],
   "source": [
    "print(\"法律位階\")\n",
    "law=[\"憲法\",\"法律\",\"命令\",\"地方法規\"]\n",
    "print(law)\n",
    "\n",
    "print(\"最高:\",law[0],\"次高:\",law[1])"
   ]
  },
  {
   "cell_type": "code",
   "execution_count": 2,
   "id": "c2fbf7f0",
   "metadata": {},
   "outputs": [
    {
     "name": "stdout",
     "output_type": "stream",
     "text": [
      "23頂獵群\n",
      "成員: 竹竹 阿嘉 瑋哥\n",
      "銀牌以上: 竹竹 瑋哥\n",
      "待加強 ['阿嘉', '瑋哥']\n"
     ]
    }
   ],
   "source": [
    "print(\"23頂獵群\")\n",
    "mb=[\"竹竹\",\"阿嘉\",\"瑋哥\"]\n",
    "print(\"成員:\",mb[0],mb[1],mb[2])\n",
    "print(\"銀牌以上:\",mb[0],mb[2])\n",
    "print(\"待加強\",mb[-2:])"
   ]
  },
  {
   "cell_type": "code",
   "execution_count": 12,
   "id": "8bc88118",
   "metadata": {},
   "outputs": [
    {
     "name": "stdout",
     "output_type": "stream",
     "text": [
      "新增篇:\n",
      "xx.append: ['a', 'b', 'c', 'd']\n",
      "xx.insert(項,x): ['a', 'b', 's', 'c', 'd']\n",
      "xx_extend: ['a', 'b', 's', 'c', 'd', 'x']\n"
     ]
    }
   ],
   "source": [
    "en=[\"a\",\"b\",\"c\"]\n",
    "\n",
    "print(\"新增篇:\")\n",
    "en.append(\"d\")\n",
    "print(\"xx.append:\",en)\n",
    "\n",
    "en.insert(2,\"s\")\n",
    "print(\"xx.insert(項,x):\",en)\n",
    "\n",
    "en_extend=(\"x\")\n",
    "en.extend(en_extend)\n",
    "print(\"xx_extend:\",en)\n",
    "\n"
   ]
  },
  {
   "cell_type": "code",
   "execution_count": 21,
   "id": "8104bc4a",
   "metadata": {},
   "outputs": [
    {
     "name": "stdout",
     "output_type": "stream",
     "text": [
      "刪除篇:\n",
      "del xx[:n、s:d、條件...]: ['ㄇ', 'ㄈ', 'ㄉ']\n"
     ]
    },
    {
     "ename": "TypeError",
     "evalue": "'builtin_function_or_method' object is not subscriptable",
     "output_type": "error",
     "traceback": [
      "\u001b[1;31m---------------------------------------------------------------------------\u001b[0m",
      "\u001b[1;31mTypeError\u001b[0m                                 Traceback (most recent call last)",
      "Input \u001b[1;32mIn [21]\u001b[0m, in \u001b[0;36m<cell line: 7>\u001b[1;34m()\u001b[0m\n\u001b[0;32m      4\u001b[0m \u001b[38;5;28;01mdel\u001b[39;00m ch[:\u001b[38;5;241m2\u001b[39m]\n\u001b[0;32m      5\u001b[0m \u001b[38;5;28mprint\u001b[39m(\u001b[38;5;124m\"\u001b[39m\u001b[38;5;124mdel xx[:n、s:d、條件...]:\u001b[39m\u001b[38;5;124m\"\u001b[39m,ch)\n\u001b[1;32m----> 7\u001b[0m \u001b[43mch\u001b[49m\u001b[38;5;241;43m.\u001b[39;49m\u001b[43mremove\u001b[49m\u001b[43m[\u001b[49m\u001b[38;5;241;43m1\u001b[39;49m\u001b[43m]\u001b[49m\n\u001b[0;32m      8\u001b[0m \u001b[38;5;28mprint\u001b[39m(en)\n",
      "\u001b[1;31mTypeError\u001b[0m: 'builtin_function_or_method' object is not subscriptable"
     ]
    }
   ],
   "source": [
    "ch=[\"ㄅ\",\"ㄆ\",\"ㄇ\",\"ㄈ\",\"ㄉ\"]\n",
    "\n",
    "print(\"刪除篇:\")\n",
    "del ch[:2]\n",
    "print(\"del xx[:n、s:d、條件...]:\",ch)\n",
    "\n",
    "ch.remove[1]\n",
    "print(en)"
   ]
  },
  {
   "cell_type": "code",
   "execution_count": null,
   "id": "39b1bb52",
   "metadata": {},
   "outputs": [],
   "source": []
  }
 ],
 "metadata": {
  "kernelspec": {
   "display_name": "Python 3 (ipykernel)",
   "language": "python",
   "name": "python3"
  },
  "language_info": {
   "codemirror_mode": {
    "name": "ipython",
    "version": 3
   },
   "file_extension": ".py",
   "mimetype": "text/x-python",
   "name": "python",
   "nbconvert_exporter": "python",
   "pygments_lexer": "ipython3",
   "version": "3.9.12"
  }
 },
 "nbformat": 4,
 "nbformat_minor": 5
}
