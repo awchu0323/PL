{
 "cells": [
  {
   "cell_type": "code",
   "execution_count": 1,
   "id": "411af9f9",
   "metadata": {},
   "outputs": [
    {
     "name": "stdout",
     "output_type": "stream",
     "text": [
      "法律位階\n",
      "['憲法', '法律', '命令', '地方法規']\n",
      "最高: 憲法 次高: 法律\n"
     ]
    }
   ],
   "source": [
    "print(\"法律位階\")\n",
    "law=[\"憲法\",\"法律\",\"命令\",\"地方法規\"]\n",
    "print(law)\n",
    "\n",
    "print(\"最高:\",law[0],\"次高:\",law[1])"
   ]
  },
  {
   "cell_type": "code",
   "execution_count": 2,
   "id": "595f7f5e",
   "metadata": {},
   "outputs": [
    {
     "name": "stdout",
     "output_type": "stream",
     "text": [
      "23頂獵群\n",
      "成員: 竹竹 阿嘉 瑋哥\n",
      "銀牌以上: 竹竹 瑋哥\n",
      "待加強 ['阿嘉', '瑋哥']\n"
     ]
    }
   ],
   "source": [
    "print(\"23頂獵群\")\n",
    "mb=[\"竹竹\",\"阿嘉\",\"瑋哥\"]\n",
    "print(\"成員:\",mb[0],mb[1],mb[2])\n",
    "print(\"銀牌以上:\",mb[0],mb[2])\n",
    "print(\"待加強\",mb[-2:])"
   ]
  },
  {
   "cell_type": "code",
   "execution_count": 12,
   "id": "cf0a6326",
   "metadata": {},
   "outputs": [
    {
     "name": "stdout",
     "output_type": "stream",
     "text": [
      "新增篇:\n",
      "xx.append: ['a', 'b', 'c', 'd']\n",
      "xx.insert(項,x): ['a', 'b', 's', 'c', 'd']\n",
      "xx_extend: ['a', 'b', 's', 'c', 'd', 'x']\n"
     ]
    }
   ],
   "source": [
    "en=[\"a\",\"b\",\"c\"]\n",
    "\n",
    "print(\"新增篇:\")\n",
    "en.append(\"d\")\n",
    "print(\"xx.append:\",en)\n",
    "\n",
    "en.insert(2,\"s\")\n",
    "print(\"xx.insert(項,x):\",en)\n",
    "\n",
    "en_extend=(\"x\")\n",
    "en.extend(en_extend)\n",
    "print(\"xx_extend:\",en)\n",
    "\n"
   ]
  },
  {
   "cell_type": "code",
   "execution_count": 26,
   "id": "fd968373",
   "metadata": {},
   "outputs": [
    {
     "name": "stdout",
     "output_type": "stream",
     "text": [
      "刪除篇:\n",
      "del xx[:n、s:d、條件...]: ['ㄇ', 'ㄈ', 'ㄉ']\n",
      "xx.remove: ['ㄈ', 'ㄉ']\n"
     ]
    }
   ],
   "source": [
    "ch=[\"ㄅ\",\"ㄆ\",\"ㄇ\",\"ㄈ\",\"ㄉ\"]\n",
    "\n",
    "print(\"刪除篇:\")\n",
    "del ch[:2]\n",
    "print(\"del xx[:n、s:d、條件...]:\",ch)\n",
    "\n",
    "ch.remove(\"ㄇ\")\n",
    "print(\"xx.remove:\",ch)"
   ]
  },
  {
   "cell_type": "code",
   "execution_count": null,
   "id": "4c70bf16",
   "metadata": {},
   "outputs": [],
   "source": []
  }
 ],
 "metadata": {
  "kernelspec": {
   "display_name": "Python 3 (ipykernel)",
   "language": "python",
   "name": "python3"
  },
  "language_info": {
   "codemirror_mode": {
    "name": "ipython",
    "version": 3
   },
   "file_extension": ".py",
   "mimetype": "text/x-python",
   "name": "python",
   "nbconvert_exporter": "python",
   "pygments_lexer": "ipython3",
   "version": "3.9.12"
  }
 },
 "nbformat": 4,
 "nbformat_minor": 5
}
