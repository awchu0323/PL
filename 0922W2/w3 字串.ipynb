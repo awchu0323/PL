{
 "cells": [
  {
   "cell_type": "code",
   "execution_count": 1,
   "id": "2b845236",
   "metadata": {},
   "outputs": [
    {
     "name": "stdout",
     "output_type": "stream",
     "text": [
      "法律位階\n",
      "['憲法', '法律', '命令', '地方法規']\n",
      "最高: 憲法 次高: 法律\n"
     ]
    }
   ],
   "source": [
    "print(\"法律位階\")\n",
    "law=[\"憲法\",\"法律\",\"命令\",\"地方法規\"]\n",
    "print(law)\n",
    "\n",
    "print(\"最高:\",law[0],\"次高:\",law[1])"
   ]
  },
  {
   "cell_type": "code",
   "execution_count": 2,
   "id": "6caa21cc",
   "metadata": {},
   "outputs": [
    {
     "name": "stdout",
     "output_type": "stream",
     "text": [
      "23頂獵群\n",
      "成員: 竹竹 阿嘉 瑋哥\n",
      "銀牌以上: 竹竹 瑋哥\n",
      "待加強 ['阿嘉', '瑋哥']\n"
     ]
    }
   ],
   "source": [
    "print(\"23頂獵群\")\n",
    "mb=[\"竹竹\",\"阿嘉\",\"瑋哥\"]\n",
    "print(\"成員:\",mb[0],mb[1],mb[2])\n",
    "print(\"銀牌以上:\",mb[0],mb[2])\n",
    "print(\"待加強\",mb[-2:])"
   ]
  },
  {
   "cell_type": "code",
   "execution_count": 51,
   "id": "bfc92d39",
   "metadata": {},
   "outputs": [
    {
     "name": "stdout",
     "output_type": "stream",
     "text": [
      "(1, 2, 3, 4, 5, 6, 7)\n",
      "(2, 3, 4)\n",
      "(1, 2, 3)\n",
      "(1, 2, 3, 4)\n",
      "(3, 4, 5, 6, 7)\n",
      "(6, 7)\n",
      "(1, 2, 3, 4, 5, 6, 7)\n",
      "(1, 3, 5)\n",
      "(1, 4)\n"
     ]
    }
   ],
   "source": [
    "#切片\n",
    "\n",
    "num=1,2,3,4,5,6,7\n",
    "\n",
    "print(num)\n",
    "\n",
    "print(num[1:4])    #start:end-1\n",
    "print(num[:3])     #0:n項\n",
    "print(num[:-3])    #0:(end-n)項\n",
    "print(num[2:])     #n項:end\n",
    "print(num[-2:])    #結尾前n項\n",
    "print(num[:])      #all\n",
    "\n",
    "print(num[0:6:2])  #(n,m,step),n到m之間,間隔\n",
    "print(num[0:6:3])"
   ]
  },
  {
   "cell_type": "code",
   "execution_count": 33,
   "id": "fccfb19e",
   "metadata": {},
   "outputs": [
    {
     "name": "stdout",
     "output_type": "stream",
     "text": [
      "xx.append: ['a', 'b', 'c', 'd']\n",
      "xx.insert(項,x): ['a', 'b', 's', 'c', 'd']\n",
      "xx_extend: ['a', 'b', 's', 'c', 'd', 'x']\n"
     ]
    }
   ],
   "source": [
    "#新增篇(append,insert,extend)\n",
    "\n",
    "en=[\"a\",\"b\",\"c\"]\n",
    "\n",
    "en.append(\"d\")\n",
    "print(\"xx.append:\",en)\n",
    "\n",
    "en.insert(2,\"s\")\n",
    "print(\"xx.insert(項,x):\",en)\n",
    "\n",
    "en_extend=(\"x\")\n",
    "en.extend(en_extend)\n",
    "print(\"xx_extend:\",en)\n",
    "\n"
   ]
  },
  {
   "cell_type": "code",
   "execution_count": 26,
   "id": "2f0cb60b",
   "metadata": {},
   "outputs": [
    {
     "name": "stdout",
     "output_type": "stream",
     "text": [
      "刪除篇:\n",
      "del xx[:n、s:d、條件...]: ['ㄇ', 'ㄈ', 'ㄉ']\n",
      "xx.remove: ['ㄈ', 'ㄉ']\n"
     ]
    }
   ],
   "source": [
    "#刪除篇(del,remove,pop)\n",
    "\n",
    "ch=[\"ㄅ\",\"ㄆ\",\"ㄇ\",\"ㄈ\",\"ㄉ\"]\n",
    "\n",
    "del ch[:2]\n",
    "print(\"del xx[:n、s:d、條件...]:\",ch)\n",
    "\n",
    "ch.remove(\"ㄇ\")\n",
    "print(\"xx.remove:\",ch)"
   ]
  },
  {
   "cell_type": "code",
   "execution_count": 32,
   "id": "04d6f3c3",
   "metadata": {},
   "outputs": [
    {
     "name": "stdout",
     "output_type": "stream",
     "text": [
      "<zip object at 0x000001E2E61AB1C0>\n",
      "[('a', 1), ('b', 2), ('c', 3)]\n"
     ]
    }
   ],
   "source": [
    "#zip,list(組合)\n",
    "\n",
    "a=[\"a\",\"b\",\"c\"]\n",
    "b=[1,2,3]\n",
    "\n",
    "mix=zip(a,b)\n",
    "print(mix)\n",
    "\n",
    "c=list(mix)\n",
    "print(c)"
   ]
  },
  {
   "cell_type": "code",
   "execution_count": 56,
   "id": "0e7ff48e",
   "metadata": {},
   "outputs": [
    {
     "name": "stdout",
     "output_type": "stream",
     "text": [
      "{'b'}\n",
      "{'b', 'c', 'a'}\n",
      "{'a'}\n",
      "{'c'}\n",
      "{'c', 'a'}\n"
     ]
    }
   ],
   "source": [
    "#交集、聯集、差集、對稱差集\n",
    "\n",
    "s1={\"a\",\"b\"}\n",
    "s2={\"b\",\"c\"}\n",
    "\n",
    "print(s1&s2) #交集\n",
    "print(s1|s2) #聯集\n",
    "print(s1-s2) #差集(s1)　\n",
    "print(s1-s2) #差集　\n",
    "print(s1^s2) #對稱差集"
   ]
  },
  {
   "cell_type": "code",
   "execution_count": null,
   "id": "5c3e31c7",
   "metadata": {},
   "outputs": [],
   "source": []
  }
 ],
 "metadata": {
  "kernelspec": {
   "display_name": "Python 3 (ipykernel)",
   "language": "python",
   "name": "python3"
  },
  "language_info": {
   "codemirror_mode": {
    "name": "ipython",
    "version": 3
   },
   "file_extension": ".py",
   "mimetype": "text/x-python",
   "name": "python",
   "nbconvert_exporter": "python",
   "pygments_lexer": "ipython3",
   "version": "3.9.12"
  }
 },
 "nbformat": 4,
 "nbformat_minor": 5
}
