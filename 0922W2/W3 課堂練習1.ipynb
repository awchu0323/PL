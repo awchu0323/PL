{
 "cells": [
  {
   "cell_type": "code",
   "execution_count": 25,
   "id": "0c1835a2",
   "metadata": {},
   "outputs": [
    {
     "name": "stdout",
     "output_type": "stream",
     "text": [
      "['交付楊清弦美製貝瑞塔手槍1支、美製史密斯手槍1支、制式口徑9mm子彈26顆 、土造金屬子彈1顆、仿美國COLT廠M1911A1型半自動手槍1支、口徑0.45吋制式子彈1顆', '而未經許可而持有之。']\n",
      "['美製貝瑞塔手槍1支', '美製史密斯手槍1支', '制式口徑9mm子彈26顆 ', '土造金屬子彈1顆', '仿美國COLT廠M1911A1型半自動手槍1支', '口徑0.45吋制式子彈1顆']\n",
      "['美製貝瑞塔手槍1支', '美製史密斯手槍1支', '制式口徑9mm子彈26顆 ', '土造金屬子彈1顆', '仿美國COLT廠M1911A1型半自動手槍1支', '口徑0.45吋制式子彈1顆']\n"
     ]
    }
   ],
   "source": [
    "#練習0201\n",
    "\n",
    "a=\"因葉益成（已歿）積欠伊賭債新臺幣（下同）60萬元，交付楊清弦美製貝瑞塔手槍1支、美製史密斯手槍1支、制式口徑9mm子彈26顆 、土造金屬子彈1顆、仿美國COLT廠M1911A1型半自動手槍1支、口徑0.45吋制式子彈1顆，而未經許可而持有之。\"\n",
    "l=a.split(\"，\")\n",
    "del l[0]\n",
    "print(l)\n",
    "\n",
    "la=l[0].split(\"、\")\n",
    "print(l1)\n",
    "\n",
    "del la[0]\n",
    "la.insert(0,\"美製貝瑞塔手槍1支\")\n",
    "print(la)\n"
   ]
  },
  {
   "cell_type": "code",
   "execution_count": null,
   "id": "f4f0bd77",
   "metadata": {},
   "outputs": [],
   "source": []
  },
  {
   "cell_type": "code",
   "execution_count": null,
   "id": "95c1cf0a",
   "metadata": {},
   "outputs": [],
   "source": []
  }
 ],
 "metadata": {
  "kernelspec": {
   "display_name": "Python 3 (ipykernel)",
   "language": "python",
   "name": "python3"
  },
  "language_info": {
   "codemirror_mode": {
    "name": "ipython",
    "version": 3
   },
   "file_extension": ".py",
   "mimetype": "text/x-python",
   "name": "python",
   "nbconvert_exporter": "python",
   "pygments_lexer": "ipython3",
   "version": "3.9.12"
  }
 },
 "nbformat": 4,
 "nbformat_minor": 5
}
