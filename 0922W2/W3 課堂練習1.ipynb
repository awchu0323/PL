{
 "cells": [
  {
   "cell_type": "code",
   "execution_count": 25,
   "id": "5bb948a7",
   "metadata": {},
   "outputs": [
    {
     "name": "stdout",
     "output_type": "stream",
     "text": [
      "['交付楊清弦美製貝瑞塔手槍1支、美製史密斯手槍1支、制式口徑9mm子彈26顆 、土造金屬子彈1顆、仿美國COLT廠M1911A1型半自動手槍1支、口徑0.45吋制式子彈1顆', '而未經許可而持有之。']\n",
      "['美製貝瑞塔手槍1支', '美製史密斯手槍1支', '制式口徑9mm子彈26顆 ', '土造金屬子彈1顆', '仿美國COLT廠M1911A1型半自動手槍1支', '口徑0.45吋制式子彈1顆']\n",
      "['美製貝瑞塔手槍1支', '美製史密斯手槍1支', '制式口徑9mm子彈26顆 ', '土造金屬子彈1顆', '仿美國COLT廠M1911A1型半自動手槍1支', '口徑0.45吋制式子彈1顆']\n"
     ]
    }
   ],
   "source": [
    "#練習0201\n",
    "\n",
    "a=\"因葉益成（已歿）積欠伊賭債新臺幣（下同）60萬元，交付楊清弦美製貝瑞塔手槍1支、美製史密斯手槍1支、制式口徑9mm子彈26顆 、土造金屬子彈1顆、仿美國COLT廠M1911A1型半自動手槍1支、口徑0.45吋制式子彈1顆，而未經許可而持有之。\"\n",
    "l=a.split(\"，\")\n",
    "del l[0]\n",
    "print(l)\n",
    "\n",
    "la=l[0].split(\"、\")\n",
    "print(l1)\n",
    "\n",
    "del la[0]\n",
    "la.insert(0,\"美製貝瑞塔手槍1支\")\n",
    "print(la)\n"
   ]
  },
  {
   "cell_type": "code",
   "execution_count": 33,
   "id": "d9f8a8a9",
   "metadata": {},
   "outputs": [
    {
     "name": "stdout",
     "output_type": "stream",
     "text": [
      "('最高法院民事判例', '最高法院刑事判例', '行政法院判例')\n",
      "[('最高法院民事判例', 7), ('最高法院刑事判例', 3), ('行政法院判例', 5)]\n"
     ]
    }
   ],
   "source": [
    "#練習0202\n",
    "\n",
    "b=\"最高法院民事判例\",\"最高法院刑事判例\",\"行政法院判例\",\"大法官解釋\"\n",
    "c=7,3,5,4\n",
    "\n",
    "b1=b[:3]\n",
    "print(b1)\n",
    "\n",
    "d1=zip(b1,c[:3])\n",
    "d11=list(d1)\n",
    "print(d11)\n"
   ]
  },
  {
   "cell_type": "code",
   "execution_count": null,
   "id": "72d8c07e",
   "metadata": {},
   "outputs": [],
   "source": [
    "#練習0203\n",
    "\n"
   ]
  },
  {
   "cell_type": "code",
   "execution_count": 23,
   "id": "41a83314",
   "metadata": {},
   "outputs": [
    {
     "name": "stdout",
     "output_type": "stream",
     "text": [
      "['刑事訴訟法', '中華民國刑法']\n",
      "[['第159條之4', '第159條之5', '第159條之1', '第267條', '第299條第1項', '第302條第1款'], ['第11條', '第38條第1項第1款', '第42條第3項', '第55條', '第56條', '第57條', '第59條']]\n",
      "第267條\n",
      "{'刑事訴訟法': ['第159條之4', '第159條之5', '第159條之1', '第267條', '第299條第1項', '第302條第1款'], '中華民國刑法': ['第11條', '第38條第1項第1款', '第42條第3項', '第55條', '第56條', '第57條', '第59條', '第62條']}\n"
     ]
    }
   ],
   "source": [
    "#練習0204\n",
    "\n",
    "d={\"刑事訴訟法\":[\"第159條之4\",\"第159條之5\",\"第159條之1\",\"第267條\",\"第299條第1項\",\"第302條第1款\"],\n",
    "   \"中華民國刑法\":[\"第11條\",\"第38條第1項第1款\",\"第42條第3項\",\"第55條\",\"第56條\",\"第57條\",\"第59條\"]}\n",
    "\n",
    "#1\n",
    "d1=list(d.keys())  #項\n",
    "print(d1)\n",
    "d2=list(d.values())#內容,值\n",
    "print(d2)\n",
    "\n",
    "#2\n",
    "print(d[\"刑事訴訟法\"][3])\n",
    "\n",
    "#3\n",
    "d[\"中華民國刑法\"].append(\"第62條\")\n",
    "print(d)"
   ]
  },
  {
   "cell_type": "code",
   "execution_count": null,
   "id": "44e13131",
   "metadata": {},
   "outputs": [],
   "source": []
  }
 ],
 "metadata": {
  "kernelspec": {
   "display_name": "Python 3 (ipykernel)",
   "language": "python",
   "name": "python3"
  },
  "language_info": {
   "codemirror_mode": {
    "name": "ipython",
    "version": 3
   },
   "file_extension": ".py",
   "mimetype": "text/x-python",
   "name": "python",
   "nbconvert_exporter": "python",
   "pygments_lexer": "ipython3",
   "version": "3.9.12"
  }
 },
 "nbformat": 4,
 "nbformat_minor": 5
}
