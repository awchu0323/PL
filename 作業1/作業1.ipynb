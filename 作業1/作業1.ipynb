{
 "cells": [
  {
   "cell_type": "code",
   "execution_count": 11,
   "id": "2ea8e139",
   "metadata": {
    "scrolled": false
   },
   "outputs": [
    {
     "name": "stdout",
     "output_type": "stream",
     "text": [
      "   排名               片名       票房收入    年份\n",
      "0   1            《阿凡達》  $11億0000萬  2009\n",
      "1   2     《復仇者聯盟：終局之戰》   $9億1045萬  2019\n",
      "2   3          《侏羅紀世界》   $8億2700萬  2015\n",
      "3   4          《玩命關頭7》   $8億1900萬  2015\n",
      "4   5          《鐵達尼號》    $7億8900萬  1997\n",
      "5   6          《變形金剛3》   $7億6200萬  2011\n",
      "6   7       《捍衛戰士：獨行俠》   $7億2095萬  2022\n",
      "7   8          《玩命關頭8》   $6億5083萬  2017\n",
      "8   9     《復仇者聯盟：無限之戰》   $6億4177萬  2018\n",
      "9  10  《鬼滅之刃劇場版 無限列車篇》   $6億3493萬  2020\n"
     ]
    }
   ],
   "source": [
    "#匯入csv\n",
    "\n",
    "import pandas as pd\n",
    "\n",
    "tm = pd.read_csv(\"tm2 - 工作表1.csv\")\n",
    "print(tm)"
   ]
  },
  {
   "cell_type": "code",
   "execution_count": 5,
   "id": "562b8342",
   "metadata": {},
   "outputs": [
    {
     "data": {
      "text/html": [
       "<div>\n",
       "<style scoped>\n",
       "    .dataframe tbody tr th:only-of-type {\n",
       "        vertical-align: middle;\n",
       "    }\n",
       "\n",
       "    .dataframe tbody tr th {\n",
       "        vertical-align: top;\n",
       "    }\n",
       "\n",
       "    .dataframe thead th {\n",
       "        text-align: right;\n",
       "    }\n",
       "</style>\n",
       "<table border=\"1\" class=\"dataframe\">\n",
       "  <thead>\n",
       "    <tr style=\"text-align: right;\">\n",
       "      <th></th>\n",
       "      <th>排名</th>\n",
       "      <th>片名</th>\n",
       "      <th>票房收入</th>\n",
       "      <th>年份</th>\n",
       "    </tr>\n",
       "  </thead>\n",
       "  <tbody>\n",
       "    <tr>\n",
       "      <th>5</th>\n",
       "      <td>6</td>\n",
       "      <td>《變形金剛3》</td>\n",
       "      <td>$7億6200萬</td>\n",
       "      <td>2011</td>\n",
       "    </tr>\n",
       "    <tr>\n",
       "      <th>6</th>\n",
       "      <td>7</td>\n",
       "      <td>《捍衛戰士：獨行俠》</td>\n",
       "      <td>$7億2095萬</td>\n",
       "      <td>2022</td>\n",
       "    </tr>\n",
       "    <tr>\n",
       "      <th>7</th>\n",
       "      <td>8</td>\n",
       "      <td>《玩命關頭8》</td>\n",
       "      <td>$6億5083萬</td>\n",
       "      <td>2017</td>\n",
       "    </tr>\n",
       "    <tr>\n",
       "      <th>8</th>\n",
       "      <td>9</td>\n",
       "      <td>《復仇者聯盟：無限之戰》</td>\n",
       "      <td>$6億4177萬</td>\n",
       "      <td>2018</td>\n",
       "    </tr>\n",
       "    <tr>\n",
       "      <th>9</th>\n",
       "      <td>10</td>\n",
       "      <td>《鬼滅之刃劇場版 無限列車篇》</td>\n",
       "      <td>$6億3493萬</td>\n",
       "      <td>2020</td>\n",
       "    </tr>\n",
       "  </tbody>\n",
       "</table>\n",
       "</div>"
      ],
      "text/plain": [
       "   排名               片名      票房收入    年份\n",
       "5   6          《變形金剛3》  $7億6200萬  2011\n",
       "6   7       《捍衛戰士：獨行俠》  $7億2095萬  2022\n",
       "7   8          《玩命關頭8》  $6億5083萬  2017\n",
       "8   9     《復仇者聯盟：無限之戰》  $6億4177萬  2018\n",
       "9  10  《鬼滅之刃劇場版 無限列車篇》  $6億3493萬  2020"
      ]
     },
     "execution_count": 5,
     "metadata": {},
     "output_type": "execute_result"
    }
   ],
   "source": [
    "tm.tail()"
   ]
  },
  {
   "cell_type": "code",
   "execution_count": 44,
   "id": "c6b41242",
   "metadata": {},
   "outputs": [
    {
     "name": "stdout",
     "output_type": "stream",
     "text": [
      "   排名               片名   票房收入    年份\n",
      "0   1  《鬼滅之刃劇場版 無限列車篇》  404.3  2020\n",
      "1   2           《神隱少女》  316.8  2001\n",
      "2   3          《鐵達尼號》   262.0  1998\n",
      "3   4           《冰雪奇緣》  255.0  2014\n",
      "4   5           《你的名字》  250.3  2016\n",
      "5   6    《哈利波特：神秘的魔法石》  203.0  2001\n",
      "6   7           《魔法公主》  201.8  1997\n",
      "7   8        《霍爾的移動城堡》  196.0  2004\n",
      "8   9    《大搜查線2：封鎖彩虹橋》  173.5  2003\n",
      "9  10     《哈利波特：消失的密室》  173.0  2002\n"
     ]
    }
   ],
   "source": [
    "import pandas as pd\n",
    "\n",
    "jm = pd.read_csv(\"jm4 - 工作表1.csv\")\n",
    "print(jm)"
   ]
  },
  {
   "cell_type": "code",
   "execution_count": 45,
   "id": "390ac6bc",
   "metadata": {},
   "outputs": [
    {
     "data": {
      "text/html": [
       "<div>\n",
       "<style scoped>\n",
       "    .dataframe tbody tr th:only-of-type {\n",
       "        vertical-align: middle;\n",
       "    }\n",
       "\n",
       "    .dataframe tbody tr th {\n",
       "        vertical-align: top;\n",
       "    }\n",
       "\n",
       "    .dataframe thead th {\n",
       "        text-align: right;\n",
       "    }\n",
       "</style>\n",
       "<table border=\"1\" class=\"dataframe\">\n",
       "  <thead>\n",
       "    <tr style=\"text-align: right;\">\n",
       "      <th></th>\n",
       "      <th>排名</th>\n",
       "      <th>片名</th>\n",
       "      <th>票房收入</th>\n",
       "      <th>年份</th>\n",
       "    </tr>\n",
       "  </thead>\n",
       "  <tbody>\n",
       "    <tr>\n",
       "      <th>5</th>\n",
       "      <td>6</td>\n",
       "      <td>《哈利波特：神秘的魔法石》</td>\n",
       "      <td>203.0</td>\n",
       "      <td>2001</td>\n",
       "    </tr>\n",
       "    <tr>\n",
       "      <th>6</th>\n",
       "      <td>7</td>\n",
       "      <td>《魔法公主》</td>\n",
       "      <td>201.8</td>\n",
       "      <td>1997</td>\n",
       "    </tr>\n",
       "    <tr>\n",
       "      <th>7</th>\n",
       "      <td>8</td>\n",
       "      <td>《霍爾的移動城堡》</td>\n",
       "      <td>196.0</td>\n",
       "      <td>2004</td>\n",
       "    </tr>\n",
       "    <tr>\n",
       "      <th>8</th>\n",
       "      <td>9</td>\n",
       "      <td>《大搜查線2：封鎖彩虹橋》</td>\n",
       "      <td>173.5</td>\n",
       "      <td>2003</td>\n",
       "    </tr>\n",
       "    <tr>\n",
       "      <th>9</th>\n",
       "      <td>10</td>\n",
       "      <td>《哈利波特：消失的密室》</td>\n",
       "      <td>173.0</td>\n",
       "      <td>2002</td>\n",
       "    </tr>\n",
       "  </tbody>\n",
       "</table>\n",
       "</div>"
      ],
      "text/plain": [
       "   排名             片名   票房收入    年份\n",
       "5   6  《哈利波特：神秘的魔法石》  203.0  2001\n",
       "6   7         《魔法公主》  201.8  1997\n",
       "7   8      《霍爾的移動城堡》  196.0  2004\n",
       "8   9  《大搜查線2：封鎖彩虹橋》  173.5  2003\n",
       "9  10   《哈利波特：消失的密室》  173.0  2002"
      ]
     },
     "execution_count": 45,
     "metadata": {},
     "output_type": "execute_result"
    }
   ],
   "source": [
    "jm.tail()"
   ]
  },
  {
   "cell_type": "code",
   "execution_count": 46,
   "id": "e66dcae1",
   "metadata": {},
   "outputs": [],
   "source": [
    "#date set \n",
    "\n",
    "s1=set(tm[\"片名\"])\n",
    "s2=set(jm[\"片名\"])"
   ]
  },
  {
   "cell_type": "code",
   "execution_count": 47,
   "id": "ecc59814",
   "metadata": {},
   "outputs": [
    {
     "data": {
      "text/plain": [
       "{'《侏羅紀世界》',\n",
       " '《復仇者聯盟：無限之戰》',\n",
       " '《復仇者聯盟：終局之戰》',\n",
       " '《捍衛戰士：獨行俠》',\n",
       " '《玩命關頭7》',\n",
       " '《玩命關頭8》',\n",
       " '《變形金剛3》',\n",
       " '《鐵達尼號》 ',\n",
       " '《阿凡達》',\n",
       " '《鬼滅之刃劇場版 無限列車篇》'}"
      ]
     },
     "execution_count": 47,
     "metadata": {},
     "output_type": "execute_result"
    }
   ],
   "source": [
    "s1"
   ]
  },
  {
   "cell_type": "code",
   "execution_count": 48,
   "id": "df10b37e",
   "metadata": {},
   "outputs": [
    {
     "data": {
      "text/plain": [
       "{'《你的名字》',\n",
       " '《冰雪奇緣》',\n",
       " '《哈利波特：消失的密室》',\n",
       " '《哈利波特：神秘的魔法石》',\n",
       " '《大搜查線2：封鎖彩虹橋》',\n",
       " '《神隱少女》',\n",
       " '《鐵達尼號》 ',\n",
       " '《霍爾的移動城堡》',\n",
       " '《鬼滅之刃劇場版 無限列車篇》',\n",
       " '《魔法公主》'}"
      ]
     },
     "execution_count": 48,
     "metadata": {},
     "output_type": "execute_result"
    }
   ],
   "source": [
    "s2"
   ]
  },
  {
   "cell_type": "code",
   "execution_count": 53,
   "id": "5b93f8e1",
   "metadata": {},
   "outputs": [
    {
     "data": {
      "text/plain": [
       "{'《鐵達尼號》 ', '《鬼滅之刃劇場版 無限列車篇》'}"
      ]
     },
     "execution_count": 53,
     "metadata": {},
     "output_type": "execute_result"
    }
   ],
   "source": [
    "#聯集\n",
    "#台灣 日本 電影票房都進前十\n",
    "\n",
    "s1&s2"
   ]
  },
  {
   "cell_type": "code",
   "execution_count": 50,
   "id": "c98c3bea",
   "metadata": {},
   "outputs": [
    {
     "data": {
      "text/plain": [
       "{'《侏羅紀世界》',\n",
       " '《復仇者聯盟：無限之戰》',\n",
       " '《復仇者聯盟：終局之戰》',\n",
       " '《捍衛戰士：獨行俠》',\n",
       " '《玩命關頭7》',\n",
       " '《玩命關頭8》',\n",
       " '《變形金剛3》',\n",
       " '《阿凡達》'}"
      ]
     },
     "execution_count": 50,
     "metadata": {},
     "output_type": "execute_result"
    }
   ],
   "source": [
    "#差集\n",
    "#台灣電影票房進前十，日本沒有進\n",
    "\n",
    "s1-s2"
   ]
  },
  {
   "cell_type": "code",
   "execution_count": 54,
   "id": "60356779",
   "metadata": {},
   "outputs": [
    {
     "data": {
      "text/plain": [
       "{'《你的名字》',\n",
       " '《冰雪奇緣》',\n",
       " '《哈利波特：消失的密室》',\n",
       " '《哈利波特：神秘的魔法石》',\n",
       " '《大搜查線2：封鎖彩虹橋》',\n",
       " '《神隱少女》',\n",
       " '《霍爾的移動城堡》',\n",
       " '《魔法公主》'}"
      ]
     },
     "execution_count": 54,
     "metadata": {},
     "output_type": "execute_result"
    }
   ],
   "source": [
    "#差集\n",
    "#日本電影票房進前十，台灣沒有進\n",
    "\n",
    "s2-s1"
   ]
  },
  {
   "cell_type": "code",
   "execution_count": 56,
   "id": "405f181c",
   "metadata": {},
   "outputs": [
    {
     "data": {
      "text/plain": [
       "{'《你的名字》',\n",
       " '《侏羅紀世界》',\n",
       " '《冰雪奇緣》',\n",
       " '《哈利波特：消失的密室》',\n",
       " '《哈利波特：神秘的魔法石》',\n",
       " '《大搜查線2：封鎖彩虹橋》',\n",
       " '《復仇者聯盟：無限之戰》',\n",
       " '《復仇者聯盟：終局之戰》',\n",
       " '《捍衛戰士：獨行俠》',\n",
       " '《玩命關頭7》',\n",
       " '《玩命關頭8》',\n",
       " '《神隱少女》',\n",
       " '《變形金剛3》',\n",
       " '《鐵達尼號》 ',\n",
       " '《阿凡達》',\n",
       " '《霍爾的移動城堡》',\n",
       " '《鬼滅之刃劇場版 無限列車篇》',\n",
       " '《魔法公主》'}"
      ]
     },
     "execution_count": 56,
     "metadata": {},
     "output_type": "execute_result"
    }
   ],
   "source": [
    "#對稱差集\n",
    "#扣除掉共同進前十的電影\n",
    "\n",
    "s1|s2"
   ]
  },
  {
   "cell_type": "code",
   "execution_count": null,
   "id": "1e807fd5",
   "metadata": {},
   "outputs": [],
   "source": []
  }
 ],
 "metadata": {
  "kernelspec": {
   "display_name": "Python 3 (ipykernel)",
   "language": "python",
   "name": "python3"
  },
  "language_info": {
   "codemirror_mode": {
    "name": "ipython",
    "version": 3
   },
   "file_extension": ".py",
   "mimetype": "text/x-python",
   "name": "python",
   "nbconvert_exporter": "python",
   "pygments_lexer": "ipython3",
   "version": "3.9.12"
  }
 },
 "nbformat": 4,
 "nbformat_minor": 5
}
