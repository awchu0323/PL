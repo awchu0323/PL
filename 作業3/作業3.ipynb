{
 "cells": [
  {
   "cell_type": "code",
   "execution_count": null,
   "id": "6a61505f",
   "metadata": {},
   "outputs": [],
   "source": [
    "import requests \n",
    "import json\n",
    "import time\n",
    "from time import sleep\n",
    "import pandas as pd "
   ]
  },
  {
   "cell_type": "code",
   "execution_count": null,
   "id": "1b15be1a",
   "metadata": {},
   "outputs": [],
   "source": [
    "# 裁判家網址：https://www.lawplus.com.tw/\n",
    "# 搜索內容:最高法院 109\n",
    "\n",
    "cs_num=[]\n",
    "for page in range(1,5):\n",
    "    urlfirst = \"https://www.lawplus.com.tw/rest/search/report?querySentence=&keyword=&prevKeyword=&date=2021%2F01%2F01~2021%2F12%2F31&money=&sentence=&caseNum=&caseTypes=&courts=TPS&levels=&jtypes=&tags=&issue=&main=&judge=&judgeTypes=&lawyer=&litigant=&prosecutor=&clerk=&rows=10&page=1&sortField=&_=1667289094328\"\n",
    "    urlsec = \"&sortField=&_=1667289094328\"\n",
    "    link=urlfirst+str(page)+urlsec\n",
    "    res = requests.get(link,verify=False)\n",
    "    data=json.loads(res.text)\n",
    "    temp_data=data['rows']\n",
    "\n",
    "    for i in temp_data:\n",
    "        cs_num.append(i['identifier'])\n",
    "print(cs_num)\n",
    "    \n",
    "    "
   ]
  },
  {
   "cell_type": "code",
   "execution_count": null,
   "id": "167605c6",
   "metadata": {},
   "outputs": [],
   "source": [
    "#check 有無爬取\n",
    "res"
   ]
  },
  {
   "cell_type": "code",
   "execution_count": null,
   "id": "2d4b0aed",
   "metadata": {},
   "outputs": [],
   "source": [
    "#資料\n",
    "data"
   ]
  },
  {
   "cell_type": "code",
   "execution_count": null,
   "id": "be2ed5de",
   "metadata": {},
   "outputs": [],
   "source": [
    "temp_data"
   ]
  },
  {
   "cell_type": "code",
   "execution_count": null,
   "id": "3fd1fff8",
   "metadata": {},
   "outputs": [],
   "source": [
    "#真正的網址\n",
    "e_url=[] \n",
    "for r in cs_num:\n",
    "    url=\"https://www.lawplus.com.tw/#reportDetail?id=\"+r\n",
    "    e_url.append(url)\n",
    "for i in e_url:\n",
    "    print(i)   "
   ]
  },
  {
   "cell_type": "code",
   "execution_count": null,
   "id": "05820686",
   "metadata": {},
   "outputs": [],
   "source": [
    "#爬蟲網址\n",
    "e_link=[]\n",
    "for r in cs_num:\n",
    "    each=\"https://www.lawplus.com.tw/rest/search/report/\"+r\n",
    "    e_link.append(each)\n",
    "for i in e_link:\n",
    "    print(i)"
   ]
  },
  {
   "cell_type": "code",
   "execution_count": null,
   "id": "83e527fa",
   "metadata": {},
   "outputs": [],
   "source": [
    "content=[]\n",
    "\n",
    "for i in e_link:\n",
    "    res=requests.get(i,verify=False)\n",
    "    resquests=json.loads(res.text)\n",
    "    \n",
    "# dictionary存放\n",
    "\n",
    "    content.append({\n",
    "    '日期':resquests['response']['reportBase']['identifier'].split(',')[4], \n",
    "    '案號':resquests['response']['reportBase']['caseNum'],\n",
    "    '內文':resquests['response']['reportBase']['content'],\n",
    "    '法規':resquests['response']['report']['statute'],\n",
    "    '法官' :resquests['response']['report']['presideJudge'],\n",
    "    '裁判類型':resquests['response']['report']['type'],\n",
    "    '案由':resquests['response']['reportBase']['issue']     \n",
    "})\n",
    "    sleep(1)"
   ]
  },
  {
   "cell_type": "code",
   "execution_count": null,
   "id": "724c12de",
   "metadata": {},
   "outputs": [],
   "source": []
  }
 ],
 "metadata": {
  "kernelspec": {
   "display_name": "Python 3 (ipykernel)",
   "language": "python",
   "name": "python3"
  },
  "language_info": {
   "codemirror_mode": {
    "name": "ipython",
    "version": 3
   },
   "file_extension": ".py",
   "mimetype": "text/x-python",
   "name": "python",
   "nbconvert_exporter": "python",
   "pygments_lexer": "ipython3",
   "version": "3.9.12"
  }
 },
 "nbformat": 4,
 "nbformat_minor": 5
}
