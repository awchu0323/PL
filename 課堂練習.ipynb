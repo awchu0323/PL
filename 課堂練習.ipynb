{
 "cells": [
  {
   "cell_type": "code",
   "execution_count": 15,
   "id": "77265576",
   "metadata": {},
   "outputs": [
    {
     "name": "stdout",
     "output_type": "stream",
     "text": [
      "車禍肇事判賠\n",
      "原告賠償 7706 元\n",
      "背告賠償 17981 元\n"
     ]
    }
   ],
   "source": [
    "event=\"車禍肇事判賠\"\n",
    "sum_money=25688\n",
    "a=0.3\n",
    "b=0.7\n",
    "am=sum_money*a\n",
    "bm=sum_money*b\n",
    "print(event)\n",
    "print(\"原告賠償\",int(am),\"元\")\n",
    "print(\"背告賠償\",int(bm),\"元\")"
   ]
  },
  {
   "cell_type": "code",
   "execution_count": 16,
   "id": "45a15797",
   "metadata": {},
   "outputs": [
    {
     "name": "stdout",
     "output_type": "stream",
     "text": [
      "應付 12608 元\n"
     ]
    }
   ],
   "source": [
    "money=11805\n",
    "rate=0.0005\n",
    "m1=150\n",
    "m2=300\n",
    "summ=money*(1+rate)**59+m1+m2\n",
    "print(\"應付\",int(summ),\"元\")"
   ]
  },
  {
   "cell_type": "code",
   "execution_count": null,
   "id": "4f8a1dc8",
   "metadata": {},
   "outputs": [],
   "source": [
    "A = input(\"請輸入:\")\n",
    "\n",
    "if A ==\"被告闖紅燈\":\n",
    "    print(\"被告賠100%\")\n",
    "elif A ==\"原告闖紅燈\":\n",
    "    print(\"原告多被告少\")\n",
    "elif A==\"被告原告皆闖紅燈\":\n",
    "    print(\"原告50%被告50%\")\n",
    "else:\n",
    "    print(\"輸入錯誤\")"
   ]
  },
  {
   "cell_type": "code",
   "execution_count": null,
   "id": "5417c9d5",
   "metadata": {},
   "outputs": [],
   "source": []
  }
 ],
 "metadata": {
  "kernelspec": {
   "display_name": "Python 3 (ipykernel)",
   "language": "python",
   "name": "python3"
  },
  "language_info": {
   "codemirror_mode": {
    "name": "ipython",
    "version": 3
   },
   "file_extension": ".py",
   "mimetype": "text/x-python",
   "name": "python",
   "nbconvert_exporter": "python",
   "pygments_lexer": "ipython3",
   "version": "3.9.12"
  }
 },
 "nbformat": 4,
 "nbformat_minor": 5
}
