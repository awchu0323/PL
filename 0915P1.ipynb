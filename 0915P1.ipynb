{
 "cells": [
  {
   "cell_type": "code",
   "execution_count": 15,
   "id": "33d45586",
   "metadata": {},
   "outputs": [
    {
     "name": "stdout",
     "output_type": "stream",
     "text": [
      "車禍肇事判賠\n",
      "原告賠償 7706 元\n",
      "背告賠償 17981 元\n"
     ]
    }
   ],
   "source": [
    "event=\"車禍肇事判賠\"\n",
    "sum_money=25688\n",
    "a=0.3\n",
    "b=0.7\n",
    "am=sum_money*a\n",
    "bm=sum_money*b\n",
    "print(event)\n",
    "print(\"原告賠償\",int(am),\"元\")\n",
    "print(\"背告賠償\",int(bm),\"元\")"
   ]
  },
  {
   "cell_type": "code",
   "execution_count": null,
   "id": "68e6553d",
   "metadata": {},
   "outputs": [],
   "source": []
  },
  {
   "cell_type": "code",
   "execution_count": null,
   "id": "f1c89c9d",
   "metadata": {},
   "outputs": [],
   "source": []
  }
 ],
 "metadata": {
  "kernelspec": {
   "display_name": "Python 3 (ipykernel)",
   "language": "python",
   "name": "python3"
  },
  "language_info": {
   "codemirror_mode": {
    "name": "ipython",
    "version": 3
   },
   "file_extension": ".py",
   "mimetype": "text/x-python",
   "name": "python",
   "nbconvert_exporter": "python",
   "pygments_lexer": "ipython3",
   "version": "3.9.12"
  }
 },
 "nbformat": 4,
 "nbformat_minor": 5
}
