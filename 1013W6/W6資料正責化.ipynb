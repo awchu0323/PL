{
 "cells": [
  {
   "cell_type": "code",
   "execution_count": 6,
   "id": "d9e18f14",
   "metadata": {},
   "outputs": [],
   "source": [
    "import re"
   ]
  },
  {
   "cell_type": "code",
   "execution_count": 7,
   "id": "2d3b92e2",
   "metadata": {},
   "outputs": [],
   "source": [
    "# (1)Character classes or groups:\n",
    "#   . any \n",
    "#    | or\n",
    "#    [...] list    [^...]excluded\n",
    "#    (...) group\n",
    "# (2)空白 - s\n",
    "#    非空白 - S\n",
    "#    包含底線的任何單詞字元 - w\n",
    "#    任何非單詞字元 - W\n",
    "#    數字 - d\n",
    "#    非數字 - D\n",
    "#    開始、非 - ^\n",
    "#    結尾 - $\n",
    "#    不限 - .\n",
    "# (3)數量\n",
    "#   * 0次或更多\n",
    "#   + 1次或更多\n",
    "#   ? 0或1次\n",
    "#   {n}n次"
   ]
  },
  {
   "cell_type": "code",
   "execution_count": 8,
   "id": "72758772",
   "metadata": {},
   "outputs": [],
   "source": [
    "#group : 返回群組，可賦予id名稱尋找\n",
    "#search\n",
    "#match"
   ]
  },
  {
   "cell_type": "code",
   "execution_count": 9,
   "id": "29a3dfa2",
   "metadata": {},
   "outputs": [
    {
     "name": "stdout",
     "output_type": "stream",
     "text": [
      "['黃虹霞大法官', '黃瑞明大法官']\n",
      "['黃虹霞', '黃瑞明']\n"
     ]
    }
   ],
   "source": [
    "#findall : 尋找所有匹配\n",
    "\n",
    "print(re.findall(\"(黃\\w+)\",\"許宗立大法官、蔡烱燉大法官、蔡明誠大法官、黃虹霞大法官、林俊益大法官、吳陳鐶大法官、許志雄大法官、張瓊文大法官、黃瑞明大法官\"))\n",
    "print(re.findall(\"(黃..)\",\"許宗立大法官、蔡烱燉大法官、蔡明誠大法官、黃虹霞大法官、林俊益大法官、吳陳鐶大法官、許志雄大法官、張瓊文大法官、黃瑞明大法官\"))"
   ]
  },
  {
   "cell_type": "code",
   "execution_count": 13,
   "id": "f520c607",
   "metadata": {},
   "outputs": [
    {
     "name": "stdout",
     "output_type": "stream",
     "text": [
      "第948條:以動產所有權，或其他物權之移轉或設定為目的，而善意受讓該動產之占有者，縱其讓與人無讓與之權利，其占有仍受法律之保護。但受讓人明知或因重大過失而不知讓與人無讓與之權利者，不在此限。動產占有之受讓，係依第七百六十一條第二項規定為之者，以受讓人受現實交付且交付時善意為限，始受前項規定之保護。\n"
     ]
    }
   ],
   "source": [
    "#sub : 替換字元\n",
    "print(re.sub(\"§\",\"第\",\"§948條:以動產所有權，或其他物權之移轉或設定為目的，而善意受讓該動產之占有者，縱其讓與人無讓與之權利，其占有仍受法律之保護。但受讓人明知或因重大過失而不知讓與人無讓與之權利者，不在此限。動產占有之受讓，係依§七百六十一條§二項規定為之者，以受讓人受現實交付且交付時善意為限，始受前項規定之保護。\"))"
   ]
  },
  {
   "cell_type": "code",
   "execution_count": 22,
   "id": "523e6a24",
   "metadata": {},
   "outputs": [
    {
     "name": "stdout",
     "output_type": "stream",
     "text": [
      "['阿明', '竹竹', '小蔡', '瑋哥', '阿嘉同學']\n",
      "['阿明', '竹竹', '小蔡', '瑋哥', '阿嘉']\n"
     ]
    }
   ],
   "source": [
    "#split : 拆開\n",
    "student = re.split(\"同學、\",\"阿明同學、竹竹同學、小蔡同學、瑋哥同學、阿嘉同學\")\n",
    "print(student)\n",
    "student[-1] = \"阿嘉\"\n",
    "print(student)\n"
   ]
  },
  {
   "cell_type": "code",
   "execution_count": null,
   "id": "dd2ca6d9",
   "metadata": {},
   "outputs": [],
   "source": [
    "#compile : 包裝"
   ]
  }
 ],
 "metadata": {
  "kernelspec": {
   "display_name": "Python 3 (ipykernel)",
   "language": "python",
   "name": "python3"
  },
  "language_info": {
   "codemirror_mode": {
    "name": "ipython",
    "version": 3
   },
   "file_extension": ".py",
   "mimetype": "text/x-python",
   "name": "python",
   "nbconvert_exporter": "python",
   "pygments_lexer": "ipython3",
   "version": "3.9.12"
  }
 },
 "nbformat": 4,
 "nbformat_minor": 5
}
